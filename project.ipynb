{
 "cells": [
  {
   "cell_type": "code",
   "execution_count": 1,
   "id": "36cd21b5",
   "metadata": {},
   "outputs": [],
   "source": [
    "import pandas as pd\n",
    "import numpy as np\n",
    "import matplotlib.pyplot as plt\n",
    "import numpy as np"
   ]
  },
  {
   "cell_type": "code",
   "execution_count": 2,
   "id": "2e130534",
   "metadata": {},
   "outputs": [],
   "source": [
    "hostdhp02 = open('data/hp02/hostd.log', \"r\",errors='ignore')"
   ]
  },
  {
   "cell_type": "code",
   "execution_count": 3,
   "id": "6c111d8e",
   "metadata": {},
   "outputs": [],
   "source": [
    "hostdhp02 = [t.strip() for t in hostdhp02]"
   ]
  },
  {
   "cell_type": "code",
   "execution_count": 4,
   "id": "bc191239",
   "metadata": {},
   "outputs": [
    {
     "data": {
      "text/plain": [
       "['2022-03-28T12:28:22.839Z info hostd[527579] [Originator@6876 sub=Vimsvc.TaskManager opID=SWI-3c40f022-ce-e8e0 user=vpxuser] Task Created : haTask-5282-vim.VirtualMachine.refreshStorageInfo-1920267141',\n",
       " \"2022-03-28T12:28:22.841Z warning hostd[527187] [Originator@6876 sub=Vmsvc.vm:/vmfs/volumes/61760d91-09293d72-8de6-002655d249e9/vCLS-493f9925-c4f8-412c-8a14-7141cfb6760a/vCLS-493f9925-c4f8-412c-8a14-7141cfb6760a.vmx opID=SWI-3c40f022-ce-e8e0 user=vpxuser] File - failed to get objectId, '/vmfs/volumes/61760d91-09293d72-8de6-002655d249e9/vCLS-493f9925-c4f8-412c-8a14-7141cfb6760a/vCLS-493f9925-c4f8-412c-8a14-7141cfb6760a.vmx': Operation not supported (11)\",\n",
       " '2022-03-28T12:28:22.842Z info hostd[527187] [Originator@6876 sub=Libs opID=SWI-3c40f022-ce-e8e0 user=vpxuser] Unable to connect to vaai-nasd socket [No such file or directory]',\n",
       " '2022-03-28T12:28:22.845Z info hostd[527187] [Originator@6876 sub=Vimsvc.TaskManager opID=SWI-3c40f022-ce-e8e0 user=vpxuser] Task Completed : haTask-5282-vim.VirtualMachine.refreshStorageInfo-1920267141 Status success']"
      ]
     },
     "execution_count": 4,
     "metadata": {},
     "output_type": "execute_result"
    }
   ],
   "source": [
    "hostdhp02[1:5]"
   ]
  },
  {
   "cell_type": "code",
   "execution_count": 5,
   "id": "507faecf",
   "metadata": {
    "scrolled": true
   },
   "outputs": [],
   "source": [
    "col1 = []\n",
    "col2 = []\n",
    "col3 = []\n",
    "col4 = []\n",
    "col5 = []\n",
    "col6 = []\n",
    "col7 = []\n",
    "count = 0\n",
    "for line in hostdhp02[1:]:\n",
    "    #count +=1\n",
    "    #print(type(line))\n",
    "    if line.startswith(\"20\"):\n",
    "        line_split = line.split()\n",
    "\n",
    "        #print(line_split)\n",
    "\n",
    "        #column1\n",
    "        col1.append(line_split[0])\n",
    "        line_split.remove(line_split[0])\n",
    "\n",
    "\n",
    "        #print(line_split)\n",
    "\n",
    "\n",
    "        #column2\n",
    "        col2.append(line_split[0])\n",
    "        line_split.remove(line_split[0])\n",
    "\n",
    "        #print(line_split)\n",
    "\n",
    "\n",
    "\n",
    "        #column3\n",
    "        #print(line_split)\n",
    "        host = ''.join(line_split)\n",
    "        host = host.split('[')\n",
    "        col3.append(host[1].replace(']', ''))\n",
    "        line_split.remove(line_split[0])\n",
    "        line_split.remove(line_split[0])\n",
    "\n",
    "\n",
    "        #print(line_split)\n",
    "\n",
    "        #column4\n",
    "        if(\"sub=\" in line_split[0]):\n",
    "            clean_up = line_split[0].split('=')\n",
    "            col4.append(clean_up[1].replace(']', ''))\n",
    "            line_split.remove(line_split[0])\n",
    "        else:\n",
    "            col4.append(None)\n",
    "\n",
    "\n",
    "        #print(line_split)\n",
    "\n",
    "\n",
    "        #column5\n",
    "        if(\"opID=\" in line_split[0]):\n",
    "            clean_up = line_split[0].split('=')\n",
    "            col5.append(clean_up[1])\n",
    "            line_split.remove(line_split[0])\n",
    "        else:\n",
    "            col5.append(None)\n",
    "            #print(line_split)\n",
    "\n",
    "        #column6\n",
    "        if(\"user=\" in line_split[0]):\n",
    "            clean_up = line_split[0].split('=')\n",
    "            clean_up[0].split('[')\n",
    "            col6.append(clean_up[0])\n",
    "            line_split.remove(line_split[0])\n",
    "        else:\n",
    "            col6.append(None)\n",
    "\n",
    "\n",
    "        #column7\n",
    "        col7.append(\" \".join(line_split[0:]))\n",
    "\n",
    "        #test\n",
    "        #if count == 5:\n",
    "            #print(line_split)\n",
    "            #break"
   ]
  },
  {
   "cell_type": "code",
   "execution_count": 6,
   "id": "33026060",
   "metadata": {},
   "outputs": [
    {
     "name": "stdout",
     "output_type": "stream",
     "text": [
      "47448 47448 47448 47448 47448 47448 47448\n"
     ]
    }
   ],
   "source": [
    "print(len(col1), len(col2), len(col3), len(col4), len(col5), len(col6), len(col7))\n",
    "#print(count)"
   ]
  },
  {
   "cell_type": "code",
   "execution_count": 7,
   "id": "c7c69b69",
   "metadata": {},
   "outputs": [],
   "source": [
    "hostdhp02_df = pd.DataFrame([col1, col2, col3, col4, col5, col6, col7])\n",
    "hostdhp02_df = hostdhp02_df.T\n",
    "hostdhp02_df.columns=['TimeStamp','Tag', 'HostD', 'Sub','opID', 'User', 'Message']"
   ]
  },
  {
   "cell_type": "code",
   "execution_count": 8,
   "id": "0a5659db",
   "metadata": {},
   "outputs": [
    {
     "data": {
      "text/html": [
       "<div>\n",
       "<style scoped>\n",
       "    .dataframe tbody tr th:only-of-type {\n",
       "        vertical-align: middle;\n",
       "    }\n",
       "\n",
       "    .dataframe tbody tr th {\n",
       "        vertical-align: top;\n",
       "    }\n",
       "\n",
       "    .dataframe thead th {\n",
       "        text-align: right;\n",
       "    }\n",
       "</style>\n",
       "<table border=\"1\" class=\"dataframe\">\n",
       "  <thead>\n",
       "    <tr style=\"text-align: right;\">\n",
       "      <th></th>\n",
       "      <th>TimeStamp</th>\n",
       "      <th>Tag</th>\n",
       "      <th>HostD</th>\n",
       "      <th>Sub</th>\n",
       "      <th>opID</th>\n",
       "      <th>User</th>\n",
       "      <th>Message</th>\n",
       "    </tr>\n",
       "  </thead>\n",
       "  <tbody>\n",
       "    <tr>\n",
       "      <th>0</th>\n",
       "      <td>2022-03-28T12:28:22.839Z</td>\n",
       "      <td>info</td>\n",
       "      <td>527579</td>\n",
       "      <td>Vimsvc.TaskManager</td>\n",
       "      <td>SWI-3c40f022-ce-e8e0</td>\n",
       "      <td>user</td>\n",
       "      <td>Task Created : haTask-5282-vim.VirtualMachine....</td>\n",
       "    </tr>\n",
       "    <tr>\n",
       "      <th>1</th>\n",
       "      <td>2022-03-28T12:28:22.841Z</td>\n",
       "      <td>warning</td>\n",
       "      <td>527187</td>\n",
       "      <td>Vmsvc.vm:/vmfs/volumes/61760d91-09293d72-8de6-...</td>\n",
       "      <td>SWI-3c40f022-ce-e8e0</td>\n",
       "      <td>user</td>\n",
       "      <td>File - failed to get objectId, '/vmfs/volumes/...</td>\n",
       "    </tr>\n",
       "    <tr>\n",
       "      <th>2</th>\n",
       "      <td>2022-03-28T12:28:22.842Z</td>\n",
       "      <td>info</td>\n",
       "      <td>527187</td>\n",
       "      <td>Libs</td>\n",
       "      <td>SWI-3c40f022-ce-e8e0</td>\n",
       "      <td>user</td>\n",
       "      <td>Unable to connect to vaai-nasd socket [No such...</td>\n",
       "    </tr>\n",
       "    <tr>\n",
       "      <th>3</th>\n",
       "      <td>2022-03-28T12:28:22.845Z</td>\n",
       "      <td>info</td>\n",
       "      <td>527187</td>\n",
       "      <td>Vimsvc.TaskManager</td>\n",
       "      <td>SWI-3c40f022-ce-e8e0</td>\n",
       "      <td>user</td>\n",
       "      <td>Task Completed : haTask-5282-vim.VirtualMachin...</td>\n",
       "    </tr>\n",
       "    <tr>\n",
       "      <th>4</th>\n",
       "      <td>2022-03-28T12:28:22.846Z</td>\n",
       "      <td>info</td>\n",
       "      <td>526736</td>\n",
       "      <td>Vimsvc.TaskManager</td>\n",
       "      <td>SWI-3c40f022-ce-e8e1</td>\n",
       "      <td>user</td>\n",
       "      <td>Task Created : haTask-5311-vim.VirtualMachine....</td>\n",
       "    </tr>\n",
       "    <tr>\n",
       "      <th>...</th>\n",
       "      <td>...</td>\n",
       "      <td>...</td>\n",
       "      <td>...</td>\n",
       "      <td>...</td>\n",
       "      <td>...</td>\n",
       "      <td>...</td>\n",
       "      <td>...</td>\n",
       "    </tr>\n",
       "    <tr>\n",
       "      <th>47443</th>\n",
       "      <td>2022-03-28T23:54:26.571Z</td>\n",
       "      <td>info</td>\n",
       "      <td>527587</td>\n",
       "      <td>Vimsvc.TaskManager</td>\n",
       "      <td>esxcli-73-f21c</td>\n",
       "      <td>user</td>\n",
       "      <td>Task Completed : haTask--vim.SessionManager.lo...</td>\n",
       "    </tr>\n",
       "    <tr>\n",
       "      <th>47444</th>\n",
       "      <td>2022-03-28T23:54:26.573Z</td>\n",
       "      <td>info</td>\n",
       "      <td>527586</td>\n",
       "      <td>Vimsvc.TaskManager</td>\n",
       "      <td>6434f21e</td>\n",
       "      <td>user</td>\n",
       "      <td>Task Created : haTask--vim.event.EventHistoryC...</td>\n",
       "    </tr>\n",
       "    <tr>\n",
       "      <th>47445</th>\n",
       "      <td>2022-03-28T23:54:26.573Z</td>\n",
       "      <td>info</td>\n",
       "      <td>527586</td>\n",
       "      <td>Vimsvc.TaskManager</td>\n",
       "      <td>6434f21e</td>\n",
       "      <td>user</td>\n",
       "      <td>Task Completed : haTask--vim.event.EventHistor...</td>\n",
       "    </tr>\n",
       "    <tr>\n",
       "      <th>47446</th>\n",
       "      <td>2022-03-28T23:54:26.740Z</td>\n",
       "      <td>info</td>\n",
       "      <td>527187</td>\n",
       "      <td>Vimsvc.TaskManager</td>\n",
       "      <td>HB-host-22309@9165-6c656051-6a-f221</td>\n",
       "      <td>user</td>\n",
       "      <td>Task Created : haTask--vim.OverheadService.dow...</td>\n",
       "    </tr>\n",
       "    <tr>\n",
       "      <th>47447</th>\n",
       "      <td>2022-03-28T23:54:26.742Z</td>\n",
       "      <td>info</td>\n",
       "      <td>527586</td>\n",
       "      <td>Vimsvc.TaskManager</td>\n",
       "      <td>HB-host-22309@9165-6c656051-6a-f221</td>\n",
       "      <td>user</td>\n",
       "      <td>Task Completed : haTask--vim.OverheadService.d...</td>\n",
       "    </tr>\n",
       "  </tbody>\n",
       "</table>\n",
       "<p>47448 rows × 7 columns</p>\n",
       "</div>"
      ],
      "text/plain": [
       "                      TimeStamp      Tag   HostD  \\\n",
       "0      2022-03-28T12:28:22.839Z     info  527579   \n",
       "1      2022-03-28T12:28:22.841Z  warning  527187   \n",
       "2      2022-03-28T12:28:22.842Z     info  527187   \n",
       "3      2022-03-28T12:28:22.845Z     info  527187   \n",
       "4      2022-03-28T12:28:22.846Z     info  526736   \n",
       "...                         ...      ...     ...   \n",
       "47443  2022-03-28T23:54:26.571Z     info  527587   \n",
       "47444  2022-03-28T23:54:26.573Z     info  527586   \n",
       "47445  2022-03-28T23:54:26.573Z     info  527586   \n",
       "47446  2022-03-28T23:54:26.740Z     info  527187   \n",
       "47447  2022-03-28T23:54:26.742Z     info  527586   \n",
       "\n",
       "                                                     Sub  \\\n",
       "0                                     Vimsvc.TaskManager   \n",
       "1      Vmsvc.vm:/vmfs/volumes/61760d91-09293d72-8de6-...   \n",
       "2                                                   Libs   \n",
       "3                                     Vimsvc.TaskManager   \n",
       "4                                     Vimsvc.TaskManager   \n",
       "...                                                  ...   \n",
       "47443                                 Vimsvc.TaskManager   \n",
       "47444                                 Vimsvc.TaskManager   \n",
       "47445                                 Vimsvc.TaskManager   \n",
       "47446                                 Vimsvc.TaskManager   \n",
       "47447                                 Vimsvc.TaskManager   \n",
       "\n",
       "                                      opID  User  \\\n",
       "0                     SWI-3c40f022-ce-e8e0  user   \n",
       "1                     SWI-3c40f022-ce-e8e0  user   \n",
       "2                     SWI-3c40f022-ce-e8e0  user   \n",
       "3                     SWI-3c40f022-ce-e8e0  user   \n",
       "4                     SWI-3c40f022-ce-e8e1  user   \n",
       "...                                    ...   ...   \n",
       "47443                       esxcli-73-f21c  user   \n",
       "47444                             6434f21e  user   \n",
       "47445                             6434f21e  user   \n",
       "47446  HB-host-22309@9165-6c656051-6a-f221  user   \n",
       "47447  HB-host-22309@9165-6c656051-6a-f221  user   \n",
       "\n",
       "                                                 Message  \n",
       "0      Task Created : haTask-5282-vim.VirtualMachine....  \n",
       "1      File - failed to get objectId, '/vmfs/volumes/...  \n",
       "2      Unable to connect to vaai-nasd socket [No such...  \n",
       "3      Task Completed : haTask-5282-vim.VirtualMachin...  \n",
       "4      Task Created : haTask-5311-vim.VirtualMachine....  \n",
       "...                                                  ...  \n",
       "47443  Task Completed : haTask--vim.SessionManager.lo...  \n",
       "47444  Task Created : haTask--vim.event.EventHistoryC...  \n",
       "47445  Task Completed : haTask--vim.event.EventHistor...  \n",
       "47446  Task Created : haTask--vim.OverheadService.dow...  \n",
       "47447  Task Completed : haTask--vim.OverheadService.d...  \n",
       "\n",
       "[47448 rows x 7 columns]"
      ]
     },
     "execution_count": 8,
     "metadata": {},
     "output_type": "execute_result"
    }
   ],
   "source": [
    "hostdhp02_df"
   ]
  },
  {
   "cell_type": "code",
   "execution_count": 9,
   "id": "27758ce0",
   "metadata": {},
   "outputs": [],
   "source": [
    "hostdhpprime = open('data/hpprime/hostd.log', \"r\",errors='ignore')"
   ]
  },
  {
   "cell_type": "code",
   "execution_count": 10,
   "id": "9a2fa47d",
   "metadata": {},
   "outputs": [],
   "source": [
    "hostdhpprime = [t.strip() for t in hostdhpprime]"
   ]
  },
  {
   "cell_type": "code",
   "execution_count": 11,
   "id": "e4146843",
   "metadata": {},
   "outputs": [
    {
     "data": {
      "text/plain": [
       "['2022-03-28T14:06:30.755Z info hostd[527649] [Originator@6876 sub=Vimsvc.TaskManager opID=63b5e527 user=vpxuser] Task Created : haTask--vim.PerformanceManager.queryStats-120338',\n",
       " '2022-03-28T14:06:30.756Z info hostd[527213] [Originator@6876 sub=Vimsvc.TaskManager opID=63b5e527 user=vpxuser] Task Completed : haTask--vim.PerformanceManager.queryStats-120338 Status success',\n",
       " '2022-03-28T14:06:30.758Z info hostd[527120] [Originator@6876 sub=Vimsvc.TaskManager opID=63b5e528 user=vpxuser] Task Created : haTask--vim.InternalStatsCollector.queryLatestVmStats-120339',\n",
       " '2022-03-28T14:06:30.758Z info hostd[527647] [Originator@6876 sub=Vimsvc.TaskManager opID=63b5e528 user=vpxuser] Task Completed : haTask--vim.InternalStatsCollector.queryLatestVmStats-120339 Status success']"
      ]
     },
     "execution_count": 11,
     "metadata": {},
     "output_type": "execute_result"
    }
   ],
   "source": [
    "hostdhpprime[1:5]"
   ]
  },
  {
   "cell_type": "code",
   "execution_count": 12,
   "id": "8e0ea825",
   "metadata": {},
   "outputs": [],
   "source": [
    "col1 = []\n",
    "col2 = []\n",
    "col3 = []\n",
    "col4 = []\n",
    "col5 = []\n",
    "col6 = []\n",
    "col7 = []\n",
    "for line in hostdhpprime[1:]:\n",
    "    #count +=1\n",
    "    #print(type(line))\n",
    "    if line.startswith(\"20\"):\n",
    "        line_split = line.split()\n",
    "\n",
    "\n",
    "        #column1\n",
    "        col1.append(line_split[0])\n",
    "        line_split.remove(line_split[0])\n",
    "\n",
    "\n",
    "\n",
    "        #column2\n",
    "        col2.append(line_split[0])\n",
    "        line_split.remove(line_split[0])\n",
    "\n",
    "\n",
    "\n",
    "\n",
    "        #column3\n",
    "        #print(line_split)\n",
    "        host = ''.join(line_split)\n",
    "        host = host.split('[')\n",
    "        col3.append(host[1].replace(']', ''))\n",
    "        line_split.remove(line_split[0])\n",
    "        line_split.remove(line_split[0])\n",
    "\n",
    "\n",
    "\n",
    "        #column4\n",
    "        if(\"sub=\" in line_split[0]):\n",
    "            clean_up = line_split[0].split('=')\n",
    "            col4.append(clean_up[1].replace(']', ''))\n",
    "            line_split.remove(line_split[0])\n",
    "        else:\n",
    "            col4.append(None)\n",
    "\n",
    "\n",
    "        #print(line_split)\n",
    "\n",
    "\n",
    "        #column5\n",
    "        if(\"opID=\" in line_split[0]):\n",
    "            clean_up = line_split[0].split('=')\n",
    "            col5.append(clean_up[1])\n",
    "            line_split.remove(line_split[0])\n",
    "        else:\n",
    "            col5.append(None)\n",
    "            #print(line_split)\n",
    "\n",
    "        #column6\n",
    "        if(\"user=\" in line_split[0]):\n",
    "            clean_up = line_split[0].split('=')\n",
    "            clean_up[0].split('[')\n",
    "            col6.append(clean_up[0])\n",
    "            line_split.remove(line_split[0])\n",
    "        else:\n",
    "            col6.append(None)\n",
    "\n",
    "\n",
    "        #column7\n",
    "        col7.append(\" \".join(line_split[0:]))\n"
   ]
  },
  {
   "cell_type": "code",
   "execution_count": 13,
   "id": "d6f16a27",
   "metadata": {},
   "outputs": [],
   "source": [
    "hostdhpprime_df = pd.DataFrame([col1, col2, col3, col4, col5, col6, col7])\n",
    "hostdhpprime_df = hostdhpprime_df.T\n",
    "hostdhpprime_df.columns=['TimeStamp','Tag', 'HostD', 'Sub','opID', 'User', 'Message']"
   ]
  },
  {
   "cell_type": "code",
   "execution_count": 14,
   "id": "5aff64bf",
   "metadata": {},
   "outputs": [
    {
     "data": {
      "text/html": [
       "<div>\n",
       "<style scoped>\n",
       "    .dataframe tbody tr th:only-of-type {\n",
       "        vertical-align: middle;\n",
       "    }\n",
       "\n",
       "    .dataframe tbody tr th {\n",
       "        vertical-align: top;\n",
       "    }\n",
       "\n",
       "    .dataframe thead th {\n",
       "        text-align: right;\n",
       "    }\n",
       "</style>\n",
       "<table border=\"1\" class=\"dataframe\">\n",
       "  <thead>\n",
       "    <tr style=\"text-align: right;\">\n",
       "      <th></th>\n",
       "      <th>TimeStamp</th>\n",
       "      <th>Tag</th>\n",
       "      <th>HostD</th>\n",
       "      <th>Sub</th>\n",
       "      <th>opID</th>\n",
       "      <th>User</th>\n",
       "      <th>Message</th>\n",
       "    </tr>\n",
       "  </thead>\n",
       "  <tbody>\n",
       "    <tr>\n",
       "      <th>0</th>\n",
       "      <td>2022-03-28T14:06:30.755Z</td>\n",
       "      <td>info</td>\n",
       "      <td>527649</td>\n",
       "      <td>Vimsvc.TaskManager</td>\n",
       "      <td>63b5e527</td>\n",
       "      <td>user</td>\n",
       "      <td>Task Created : haTask--vim.PerformanceManager....</td>\n",
       "    </tr>\n",
       "    <tr>\n",
       "      <th>1</th>\n",
       "      <td>2022-03-28T14:06:30.756Z</td>\n",
       "      <td>info</td>\n",
       "      <td>527213</td>\n",
       "      <td>Vimsvc.TaskManager</td>\n",
       "      <td>63b5e527</td>\n",
       "      <td>user</td>\n",
       "      <td>Task Completed : haTask--vim.PerformanceManage...</td>\n",
       "    </tr>\n",
       "    <tr>\n",
       "      <th>2</th>\n",
       "      <td>2022-03-28T14:06:30.758Z</td>\n",
       "      <td>info</td>\n",
       "      <td>527120</td>\n",
       "      <td>Vimsvc.TaskManager</td>\n",
       "      <td>63b5e528</td>\n",
       "      <td>user</td>\n",
       "      <td>Task Created : haTask--vim.InternalStatsCollec...</td>\n",
       "    </tr>\n",
       "    <tr>\n",
       "      <th>3</th>\n",
       "      <td>2022-03-28T14:06:30.758Z</td>\n",
       "      <td>info</td>\n",
       "      <td>527647</td>\n",
       "      <td>Vimsvc.TaskManager</td>\n",
       "      <td>63b5e528</td>\n",
       "      <td>user</td>\n",
       "      <td>Task Completed : haTask--vim.InternalStatsColl...</td>\n",
       "    </tr>\n",
       "    <tr>\n",
       "      <th>4</th>\n",
       "      <td>2022-03-28T14:06:30.759Z</td>\n",
       "      <td>info</td>\n",
       "      <td>527215</td>\n",
       "      <td>Vimsvc.TaskManager</td>\n",
       "      <td>63b5e529</td>\n",
       "      <td>user</td>\n",
       "      <td>Task Created : haTask--vim.InternalStatsCollec...</td>\n",
       "    </tr>\n",
       "    <tr>\n",
       "      <th>...</th>\n",
       "      <td>...</td>\n",
       "      <td>...</td>\n",
       "      <td>...</td>\n",
       "      <td>...</td>\n",
       "      <td>...</td>\n",
       "      <td>...</td>\n",
       "      <td>...</td>\n",
       "    </tr>\n",
       "    <tr>\n",
       "      <th>35976</th>\n",
       "      <td>2022-03-28T23:51:53.801Z</td>\n",
       "      <td>info</td>\n",
       "      <td>527215</td>\n",
       "      <td>Vimsvc.TaskManager</td>\n",
       "      <td>63b6b1ed</td>\n",
       "      <td>user</td>\n",
       "      <td>Task Completed : haTask--vim.InternalStatsColl...</td>\n",
       "    </tr>\n",
       "    <tr>\n",
       "      <th>35977</th>\n",
       "      <td>2022-03-28T23:51:56.188Z</td>\n",
       "      <td>info</td>\n",
       "      <td>527656</td>\n",
       "      <td>Vimsvc.TaskManager</td>\n",
       "      <td>63b6b1f2</td>\n",
       "      <td>user</td>\n",
       "      <td>Task Created : haTask--vim.PerformanceManager....</td>\n",
       "    </tr>\n",
       "    <tr>\n",
       "      <th>35978</th>\n",
       "      <td>2022-03-28T23:51:56.188Z</td>\n",
       "      <td>info</td>\n",
       "      <td>526926</td>\n",
       "      <td>Vimsvc.TaskManager</td>\n",
       "      <td>63b6b1f2</td>\n",
       "      <td>user</td>\n",
       "      <td>Task Completed : haTask--vim.PerformanceManage...</td>\n",
       "    </tr>\n",
       "    <tr>\n",
       "      <th>35979</th>\n",
       "      <td>2022-03-28T23:51:57.020Z</td>\n",
       "      <td>warning</td>\n",
       "      <td>527212</td>\n",
       "      <td>Cimsvc</td>\n",
       "      <td>None</td>\n",
       "      <td>None</td>\n",
       "      <td>Failed to get numeric sensor status from IPMI</td>\n",
       "    </tr>\n",
       "    <tr>\n",
       "      <th>35980</th>\n",
       "      <td>2022-03-28T23:51:57.020Z</td>\n",
       "      <td>warning</td>\n",
       "      <td>527212</td>\n",
       "      <td>Cimsvc</td>\n",
       "      <td>None</td>\n",
       "      <td>None</td>\n",
       "      <td>Numeric sensors reset to unknown state</td>\n",
       "    </tr>\n",
       "  </tbody>\n",
       "</table>\n",
       "<p>35981 rows × 7 columns</p>\n",
       "</div>"
      ],
      "text/plain": [
       "                      TimeStamp      Tag   HostD                 Sub  \\\n",
       "0      2022-03-28T14:06:30.755Z     info  527649  Vimsvc.TaskManager   \n",
       "1      2022-03-28T14:06:30.756Z     info  527213  Vimsvc.TaskManager   \n",
       "2      2022-03-28T14:06:30.758Z     info  527120  Vimsvc.TaskManager   \n",
       "3      2022-03-28T14:06:30.758Z     info  527647  Vimsvc.TaskManager   \n",
       "4      2022-03-28T14:06:30.759Z     info  527215  Vimsvc.TaskManager   \n",
       "...                         ...      ...     ...                 ...   \n",
       "35976  2022-03-28T23:51:53.801Z     info  527215  Vimsvc.TaskManager   \n",
       "35977  2022-03-28T23:51:56.188Z     info  527656  Vimsvc.TaskManager   \n",
       "35978  2022-03-28T23:51:56.188Z     info  526926  Vimsvc.TaskManager   \n",
       "35979  2022-03-28T23:51:57.020Z  warning  527212              Cimsvc   \n",
       "35980  2022-03-28T23:51:57.020Z  warning  527212              Cimsvc   \n",
       "\n",
       "           opID  User                                            Message  \n",
       "0      63b5e527  user  Task Created : haTask--vim.PerformanceManager....  \n",
       "1      63b5e527  user  Task Completed : haTask--vim.PerformanceManage...  \n",
       "2      63b5e528  user  Task Created : haTask--vim.InternalStatsCollec...  \n",
       "3      63b5e528  user  Task Completed : haTask--vim.InternalStatsColl...  \n",
       "4      63b5e529  user  Task Created : haTask--vim.InternalStatsCollec...  \n",
       "...         ...   ...                                                ...  \n",
       "35976  63b6b1ed  user  Task Completed : haTask--vim.InternalStatsColl...  \n",
       "35977  63b6b1f2  user  Task Created : haTask--vim.PerformanceManager....  \n",
       "35978  63b6b1f2  user  Task Completed : haTask--vim.PerformanceManage...  \n",
       "35979      None  None      Failed to get numeric sensor status from IPMI  \n",
       "35980      None  None             Numeric sensors reset to unknown state  \n",
       "\n",
       "[35981 rows x 7 columns]"
      ]
     },
     "execution_count": 14,
     "metadata": {},
     "output_type": "execute_result"
    }
   ],
   "source": [
    "hostdhpprime_df"
   ]
  },
  {
   "cell_type": "code",
   "execution_count": 15,
   "id": "1b1bdb89",
   "metadata": {},
   "outputs": [],
   "source": [
    "vmkhp02 = open('data/hp02/vmkernel.log', \"r\",errors='ignore')"
   ]
  },
  {
   "cell_type": "code",
   "execution_count": 16,
   "id": "be431885",
   "metadata": {},
   "outputs": [],
   "source": [
    "vmkhp02 = [t.strip() for t in vmkhp02]"
   ]
  },
  {
   "cell_type": "code",
   "execution_count": 17,
   "id": "2a9dabfb",
   "metadata": {},
   "outputs": [
    {
     "data": {
      "text/plain": [
       "['2022-03-27T18:10:43.149Z cpu5:524438)StorageDevice: 7059: End path evaluation for device naa.6589cfc0000002a5a5c92b5667f1ff25',\n",
       " '2022-03-27T18:10:43.149Z cpu5:524438)StorageDevice: 7059: End path evaluation for device mpx.vmhba32:C0:T0:L0',\n",
       " '2022-03-27T18:10:43.150Z cpu5:524438)StorageDevice: 7059: End path evaluation for device naa.6589cfc000000119d7cab53ddd5d7b8f',\n",
       " '2022-03-27T18:15:43.153Z cpu3:524438)StorageDevice: 7059: End path evaluation for device naa.6e843b6f1b89fdbd00b3d4cfcd8e24d2',\n",
       " '2022-03-27T18:15:43.154Z cpu3:524438)StorageDevice: 7059: End path evaluation for device naa.6589cfc0000002a5a5c92b5667f1ff25',\n",
       " '2022-03-27T18:15:43.154Z cpu3:524438)StorageDevice: 7059: End path evaluation for device mpx.vmhba32:C0:T0:L0',\n",
       " '2022-03-27T18:15:43.155Z cpu3:524438)StorageDevice: 7059: End path evaluation for device naa.6589cfc000000119d7cab53ddd5d7b8f',\n",
       " '2022-03-27T18:20:11.041Z cpu2:524317)NMP: nmp_ThrottleLogForDevice:3867: Cmd 0x85 (0x4558c0e3e388, 526640) to dev \"mpx.vmhba32:C0:T0:L0\" on path \"vmhba32:C0:T0:L0\" Failed:',\n",
       " '2022-03-27T18:20:11.041Z cpu2:524317)NMP: nmp_ThrottleLogForDevice:3875: H:0x0 D:0x2 P:0x0 Valid sense data: 0x5 0x0 0x0. Act:NONE. cmdId.initiator=0x4303a6758e40 CmdSN 0x152',\n",
       " '2022-03-27T18:20:11.041Z cpu2:524317)ScsiDeviceIO: 4161: Cmd(0x4558c0e3e388) 0x85, CmdSN 0x152 from world 526640 to dev \"mpx.vmhba32:C0:T0:L0\" failed H:0x0 D:0x2 P:0x0 Valid sense data: 0x5 0x0 0x0',\n",
       " '2022-03-27T18:20:11.041Z cpu2:524317)ScsiDeviceIO: 4161: Cmd(0x4558c0e3e388) 0x85, CmdSN 0x153 from world 526640 to dev \"mpx.vmhba32:C0:T0:L0\" failed H:0x0 D:0x2 P:0x0 Valid sense data: 0x5 0x0 0x0',\n",
       " '2022-03-27T18:20:43.157Z cpu1:524666)NMP: nmp_ResetDeviceLogThrottling:3782: last error status from device mpx.vmhba32:C0:T0:L0 repeated 1 times',\n",
       " '2022-03-27T18:20:43.159Z cpu1:524438)StorageDevice: 7059: End path evaluation for device naa.6e843b6f1b89fdbd00b3d4cfcd8e24d2',\n",
       " '2022-03-27T18:20:43.160Z cpu1:524438)StorageDevice: 7059: End path evaluation for device naa.6589cfc0000002a5a5c92b5667f1ff25',\n",
       " '2022-03-27T18:20:43.160Z cpu1:524438)StorageDevice: 7059: End path evaluation for device mpx.vmhba32:C0:T0:L0',\n",
       " '2022-03-27T18:20:43.160Z cpu1:524438)StorageDevice: 7059: End path evaluation for device naa.6589cfc000000119d7cab53ddd5d7b8f',\n",
       " '2022-03-27T18:25:43.163Z cpu7:524438)StorageDevice: 7059: End path evaluation for device naa.6e843b6f1b89fdbd00b3d4cfcd8e24d2',\n",
       " '2022-03-27T18:25:43.164Z cpu7:524438)StorageDevice: 7059: End path evaluation for device naa.6589cfc0000002a5a5c92b5667f1ff25',\n",
       " '2022-03-27T18:25:43.164Z cpu7:524438)StorageDevice: 7059: End path evaluation for device mpx.vmhba32:C0:T0:L0',\n",
       " '2022-03-27T18:25:43.165Z cpu7:524438)StorageDevice: 7059: End path evaluation for device naa.6589cfc000000119d7cab53ddd5d7b8f']"
      ]
     },
     "execution_count": 17,
     "metadata": {},
     "output_type": "execute_result"
    }
   ],
   "source": [
    "vmkhp02[:20]"
   ]
  },
  {
   "cell_type": "code",
   "execution_count": 18,
   "id": "865860e0",
   "metadata": {},
   "outputs": [],
   "source": [
    "col1 = []\n",
    "col2 = []\n",
    "col3 = []\n",
    "col4 = []\n",
    "col5 = []\n",
    "col6 = []\n",
    "col7 = []\n",
    "\n",
    "ignore_list = [\"opID\", \"----------------\", \"min,KB\"]\n",
    "count = 0\n",
    "for line in vmkhp02[1:]:\n",
    "    count +=1\n",
    "    #print(type(line))\n",
    "    if line.startswith(\"20\") and all(entry not in line for entry in ignore_list):\n",
    "        line_split = line.split()\n",
    "\n",
    "        #column1\n",
    "        col1.append(line_split[0])\n",
    "\n",
    "        #column2\n",
    "        clean_up = line_split[1].split(\")\")\n",
    "        cpu = clean_up[0].split(\":\")\n",
    "        col2.append(cpu[0])\n",
    "\n",
    "        #column3\n",
    "        col3.append(cpu[1])\n",
    "\n",
    "\n",
    "        #column4 and column5\n",
    "        if \"WARNING\" in line:\n",
    "            col4.append(1)\n",
    "            col5.append(line_split[2].replace(':', ''))\n",
    "        else:\n",
    "            col4.append(0)\n",
    "            col5.append(clean_up[1].replace(':', ''))\n",
    "        \n",
    "\n",
    "        #column6 and column7\n",
    "        if \"NMP\" in line:\n",
    "            clean_up = line_split[2].split(\":\")\n",
    "            col6.append(clean_up[1].replace(':', ''))\n",
    "            col7.append(\" \".join(line_split[3:]))\n",
    "        elif \"WARNING\" in line:\n",
    "            col6.append(line_split[3].replace(':', ''))\n",
    "            col7.append(\" \".join(line_split[4:]))\n",
    "        else:\n",
    "            #print(line_split)\n",
    "            col6.append(line_split[2].replace(':', ''))\n",
    "            col7.append(\" \".join(line_split[3:]))\n"
   ]
  },
  {
   "cell_type": "code",
   "execution_count": 19,
   "id": "3ce27c69",
   "metadata": {},
   "outputs": [],
   "source": [
    "vmkhp02_df = pd.DataFrame([col1, col2, col3, col4, col5, col6, col7])\n",
    "vmkhp02_df = vmkhp02_df.T\n",
    "vmkhp02_df.columns=['TimeStamp','CPU', 'ProcessID', 'Warning', 'Component','opID', 'Message']"
   ]
  },
  {
   "cell_type": "code",
   "execution_count": 20,
   "id": "8f154549",
   "metadata": {},
   "outputs": [
    {
     "data": {
      "text/html": [
       "<div>\n",
       "<style scoped>\n",
       "    .dataframe tbody tr th:only-of-type {\n",
       "        vertical-align: middle;\n",
       "    }\n",
       "\n",
       "    .dataframe tbody tr th {\n",
       "        vertical-align: top;\n",
       "    }\n",
       "\n",
       "    .dataframe thead th {\n",
       "        text-align: right;\n",
       "    }\n",
       "</style>\n",
       "<table border=\"1\" class=\"dataframe\">\n",
       "  <thead>\n",
       "    <tr style=\"text-align: right;\">\n",
       "      <th></th>\n",
       "      <th>TimeStamp</th>\n",
       "      <th>CPU</th>\n",
       "      <th>ProcessID</th>\n",
       "      <th>Warning</th>\n",
       "      <th>Component</th>\n",
       "      <th>opID</th>\n",
       "      <th>Message</th>\n",
       "    </tr>\n",
       "  </thead>\n",
       "  <tbody>\n",
       "    <tr>\n",
       "      <th>0</th>\n",
       "      <td>2022-03-27T18:10:43.149Z</td>\n",
       "      <td>cpu5</td>\n",
       "      <td>524438</td>\n",
       "      <td>0</td>\n",
       "      <td>StorageDevice</td>\n",
       "      <td>7059</td>\n",
       "      <td>End path evaluation for device mpx.vmhba32:C0:...</td>\n",
       "    </tr>\n",
       "    <tr>\n",
       "      <th>1</th>\n",
       "      <td>2022-03-27T18:10:43.150Z</td>\n",
       "      <td>cpu5</td>\n",
       "      <td>524438</td>\n",
       "      <td>0</td>\n",
       "      <td>StorageDevice</td>\n",
       "      <td>7059</td>\n",
       "      <td>End path evaluation for device naa.6589cfc0000...</td>\n",
       "    </tr>\n",
       "    <tr>\n",
       "      <th>2</th>\n",
       "      <td>2022-03-27T18:15:43.153Z</td>\n",
       "      <td>cpu3</td>\n",
       "      <td>524438</td>\n",
       "      <td>0</td>\n",
       "      <td>StorageDevice</td>\n",
       "      <td>7059</td>\n",
       "      <td>End path evaluation for device naa.6e843b6f1b8...</td>\n",
       "    </tr>\n",
       "    <tr>\n",
       "      <th>3</th>\n",
       "      <td>2022-03-27T18:15:43.154Z</td>\n",
       "      <td>cpu3</td>\n",
       "      <td>524438</td>\n",
       "      <td>0</td>\n",
       "      <td>StorageDevice</td>\n",
       "      <td>7059</td>\n",
       "      <td>End path evaluation for device naa.6589cfc0000...</td>\n",
       "    </tr>\n",
       "    <tr>\n",
       "      <th>4</th>\n",
       "      <td>2022-03-27T18:15:43.154Z</td>\n",
       "      <td>cpu3</td>\n",
       "      <td>524438</td>\n",
       "      <td>0</td>\n",
       "      <td>StorageDevice</td>\n",
       "      <td>7059</td>\n",
       "      <td>End path evaluation for device mpx.vmhba32:C0:...</td>\n",
       "    </tr>\n",
       "    <tr>\n",
       "      <th>...</th>\n",
       "      <td>...</td>\n",
       "      <td>...</td>\n",
       "      <td>...</td>\n",
       "      <td>...</td>\n",
       "      <td>...</td>\n",
       "      <td>...</td>\n",
       "      <td>...</td>\n",
       "    </tr>\n",
       "    <tr>\n",
       "      <th>2999</th>\n",
       "      <td>2022-03-28T23:54:29.438Z</td>\n",
       "      <td>cpu1</td>\n",
       "      <td>524314</td>\n",
       "      <td>0</td>\n",
       "      <td>NMP</td>\n",
       "      <td>3867</td>\n",
       "      <td>Cmd 0x85 (0x4558c0e89888, 598319) to dev \"mpx....</td>\n",
       "    </tr>\n",
       "    <tr>\n",
       "      <th>3000</th>\n",
       "      <td>2022-03-28T23:54:29.438Z</td>\n",
       "      <td>cpu1</td>\n",
       "      <td>524314</td>\n",
       "      <td>0</td>\n",
       "      <td>NMP</td>\n",
       "      <td>3875</td>\n",
       "      <td>H:0x0 D:0x2 P:0x0 Valid sense data: 0x5 0x0 0x...</td>\n",
       "    </tr>\n",
       "    <tr>\n",
       "      <th>3001</th>\n",
       "      <td>2022-03-28T23:54:29.438Z</td>\n",
       "      <td>cpu1</td>\n",
       "      <td>524314</td>\n",
       "      <td>0</td>\n",
       "      <td>ScsiDeviceIO</td>\n",
       "      <td>4161</td>\n",
       "      <td>Cmd(0x4558c0e89888) 0x85, CmdSN 0x1ca from wor...</td>\n",
       "    </tr>\n",
       "    <tr>\n",
       "      <th>3002</th>\n",
       "      <td>2022-03-28T23:54:29.438Z</td>\n",
       "      <td>cpu1</td>\n",
       "      <td>524314</td>\n",
       "      <td>0</td>\n",
       "      <td>ScsiDeviceIO</td>\n",
       "      <td>4161</td>\n",
       "      <td>Cmd(0x4558c0e89888) 0x85, CmdSN 0x1cb from wor...</td>\n",
       "    </tr>\n",
       "    <tr>\n",
       "      <th>3003</th>\n",
       "      <td>2022-03-28T23:54:29.922Z</td>\n",
       "      <td>cpu7</td>\n",
       "      <td>598329</td>\n",
       "      <td>1</td>\n",
       "      <td>VisorFS</td>\n",
       "      <td>1094</td>\n",
       "      <td>Attempt to setattr non sticky dir/file from ta...</td>\n",
       "    </tr>\n",
       "  </tbody>\n",
       "</table>\n",
       "<p>3004 rows × 7 columns</p>\n",
       "</div>"
      ],
      "text/plain": [
       "                     TimeStamp   CPU ProcessID Warning      Component  opID  \\\n",
       "0     2022-03-27T18:10:43.149Z  cpu5    524438       0  StorageDevice  7059   \n",
       "1     2022-03-27T18:10:43.150Z  cpu5    524438       0  StorageDevice  7059   \n",
       "2     2022-03-27T18:15:43.153Z  cpu3    524438       0  StorageDevice  7059   \n",
       "3     2022-03-27T18:15:43.154Z  cpu3    524438       0  StorageDevice  7059   \n",
       "4     2022-03-27T18:15:43.154Z  cpu3    524438       0  StorageDevice  7059   \n",
       "...                        ...   ...       ...     ...            ...   ...   \n",
       "2999  2022-03-28T23:54:29.438Z  cpu1    524314       0            NMP  3867   \n",
       "3000  2022-03-28T23:54:29.438Z  cpu1    524314       0            NMP  3875   \n",
       "3001  2022-03-28T23:54:29.438Z  cpu1    524314       0   ScsiDeviceIO  4161   \n",
       "3002  2022-03-28T23:54:29.438Z  cpu1    524314       0   ScsiDeviceIO  4161   \n",
       "3003  2022-03-28T23:54:29.922Z  cpu7    598329       1        VisorFS  1094   \n",
       "\n",
       "                                                Message  \n",
       "0     End path evaluation for device mpx.vmhba32:C0:...  \n",
       "1     End path evaluation for device naa.6589cfc0000...  \n",
       "2     End path evaluation for device naa.6e843b6f1b8...  \n",
       "3     End path evaluation for device naa.6589cfc0000...  \n",
       "4     End path evaluation for device mpx.vmhba32:C0:...  \n",
       "...                                                 ...  \n",
       "2999  Cmd 0x85 (0x4558c0e89888, 598319) to dev \"mpx....  \n",
       "3000  H:0x0 D:0x2 P:0x0 Valid sense data: 0x5 0x0 0x...  \n",
       "3001  Cmd(0x4558c0e89888) 0x85, CmdSN 0x1ca from wor...  \n",
       "3002  Cmd(0x4558c0e89888) 0x85, CmdSN 0x1cb from wor...  \n",
       "3003  Attempt to setattr non sticky dir/file from ta...  \n",
       "\n",
       "[3004 rows x 7 columns]"
      ]
     },
     "execution_count": 20,
     "metadata": {},
     "output_type": "execute_result"
    }
   ],
   "source": [
    "vmkhp02_df"
   ]
  },
  {
   "cell_type": "code",
   "execution_count": 21,
   "id": "291fb32a",
   "metadata": {},
   "outputs": [],
   "source": [
    "vmkhpprime = open('data/hpprime/vmkernel.log', \"r\",errors='ignore')"
   ]
  },
  {
   "cell_type": "code",
   "execution_count": 22,
   "id": "f1eb6b7b",
   "metadata": {},
   "outputs": [],
   "source": [
    "vmkhpprime = [t.strip() for t in vmkhpprime]"
   ]
  },
  {
   "cell_type": "code",
   "execution_count": 23,
   "id": "f5e6ffcf",
   "metadata": {},
   "outputs": [
    {
     "data": {
      "text/plain": [
       "['2022-03-25T19:20:31.456Z cpu0:524310)ScsiDeviceIO: 4161: Cmd(0x4558c10899c8) 0x85, CmdSN 0x259 from world 526906 to dev \"mpx.vmhba32:C0:T0:L0\" failed H:0x0 D:0x2 P:0x0 Valid sense data: 0x5 0x0 0x0',\n",
       " '2022-03-25T19:21:05.755Z cpu1:524637)NMP: nmp_ResetDeviceLogThrottling:3782: last error status from device mpx.vmhba32:C0:T0:L0 repeated 1 times',\n",
       " \"2022-03-25T19:23:32.010Z cpu2:527283)FS3Misc: 1755: Long VMFS rsv time on 'Local_HP-Prime' (held for 247 msecs). # R: 1, # W: 1 bytesXfer: 6 sectors\",\n",
       " \"2022-03-25T19:24:31.159Z cpu3:528356)FS3Misc: 1755: Long VMFS rsv time on 'Local_HP-Prime' (held for 234 msecs). # R: 1, # W: 1 bytesXfer: 4 sectors\",\n",
       " '2022-03-25T19:25:05.760Z cpu0:524418)StorageDevice: 7059: End path evaluation for device naa.6e843b6f1b89fdbd00b3d4cfcd8e24d2',\n",
       " '2022-03-25T19:25:05.762Z cpu0:524418)StorageDevice: 7059: End path evaluation for device naa.6589cfc0000002a5a5c92b5667f1ff25',\n",
       " '2022-03-25T19:25:05.762Z cpu1:524418)StorageDevice: 7059: End path evaluation for device mpx.vmhba32:C0:T0:L0',\n",
       " '2022-03-25T19:25:05.762Z cpu1:524418)StorageDevice: 7059: End path evaluation for device t10.ATA_____Hitachi_HDT721016SLA380_______________________STD1C7MY01KSGX',\n",
       " '2022-03-25T19:25:05.763Z cpu1:524418)StorageDevice: 7059: End path evaluation for device naa.6589cfc000000119d7cab53ddd5d7b8f',\n",
       " '2022-03-25T19:30:05.766Z cpu0:524418)StorageDevice: 7059: End path evaluation for device naa.6e843b6f1b89fdbd00b3d4cfcd8e24d2',\n",
       " '2022-03-25T19:30:05.767Z cpu0:524418)StorageDevice: 7059: End path evaluation for device naa.6589cfc0000002a5a5c92b5667f1ff25',\n",
       " '2022-03-25T19:30:05.767Z cpu0:524418)StorageDevice: 7059: End path evaluation for device mpx.vmhba32:C0:T0:L0',\n",
       " '2022-03-25T19:30:05.767Z cpu0:524418)StorageDevice: 7059: End path evaluation for device t10.ATA_____Hitachi_HDT721016SLA380_______________________STD1C7MY01KSGX',\n",
       " '2022-03-25T19:30:05.768Z cpu0:524418)StorageDevice: 7059: End path evaluation for device naa.6589cfc000000119d7cab53ddd5d7b8f',\n",
       " '2022-03-25T19:35:05.771Z cpu3:524418)StorageDevice: 7059: End path evaluation for device naa.6e843b6f1b89fdbd00b3d4cfcd8e24d2',\n",
       " '2022-03-25T19:35:05.772Z cpu3:524418)StorageDevice: 7059: End path evaluation for device naa.6589cfc0000002a5a5c92b5667f1ff25',\n",
       " '2022-03-25T19:35:05.772Z cpu0:524418)StorageDevice: 7059: End path evaluation for device mpx.vmhba32:C0:T0:L0',\n",
       " '2022-03-25T19:35:05.772Z cpu3:524418)StorageDevice: 7059: End path evaluation for device t10.ATA_____Hitachi_HDT721016SLA380_______________________STD1C7MY01KSGX',\n",
       " '2022-03-25T19:35:05.773Z cpu3:524418)StorageDevice: 7059: End path evaluation for device naa.6589cfc000000119d7cab53ddd5d7b8f',\n",
       " '2022-03-25T19:40:05.776Z cpu0:524418)StorageDevice: 7059: End path evaluation for device naa.6e843b6f1b89fdbd00b3d4cfcd8e24d2']"
      ]
     },
     "execution_count": 23,
     "metadata": {},
     "output_type": "execute_result"
    }
   ],
   "source": [
    "vmkhpprime[:20]"
   ]
  },
  {
   "cell_type": "code",
   "execution_count": 24,
   "id": "45c1b135",
   "metadata": {},
   "outputs": [],
   "source": [
    "col1 = []\n",
    "col2 = []\n",
    "col3 = []\n",
    "col4 = []\n",
    "col5 = []\n",
    "col6 = []\n",
    "col7 = []\n",
    "\n",
    "ignore_list = [\"opID\", \"----------------\", \"min,KB\"]\n",
    "count = 0\n",
    "for line in vmkhpprime[1:]:\n",
    "    count +=1\n",
    "    #print(type(line))\n",
    "    if line.startswith(\"20\") and all(entry not in line for entry in ignore_list):\n",
    "        line_split = line.split()\n",
    "\n",
    "        #column1\n",
    "        col1.append(line_split[0])\n",
    "\n",
    "        #column2\n",
    "        clean_up = line_split[1].split(\")\")\n",
    "        cpu = clean_up[0].split(\":\")\n",
    "        col2.append(cpu[0])\n",
    "\n",
    "        #column3\n",
    "        col3.append(cpu[1])\n",
    "\n",
    "\n",
    "        #column4 and column5\n",
    "        if \"WARNING\" in line:\n",
    "            col4.append(1)\n",
    "            col5.append(line_split[2].replace(':', ''))\n",
    "        else:\n",
    "            col4.append(0)\n",
    "            col5.append(clean_up[1].replace(':', ''))\n",
    "        \n",
    "\n",
    "        #column6 and column7\n",
    "        if \"NMP\" in line:\n",
    "            clean_up = line_split[2].split(\":\")\n",
    "            col6.append(clean_up[1].replace(':', ''))\n",
    "            col7.append(\" \".join(line_split[3:]))\n",
    "        elif \"WARNING\" in line:\n",
    "            col6.append(line_split[3].replace(':', ''))\n",
    "            col7.append(\" \".join(line_split[4:]))\n",
    "        else:\n",
    "            #print(line_split)\n",
    "            col6.append(line_split[2].replace(':', ''))\n",
    "            col7.append(\" \".join(line_split[3:]))\n"
   ]
  },
  {
   "cell_type": "code",
   "execution_count": 25,
   "id": "74aba394",
   "metadata": {},
   "outputs": [],
   "source": [
    "vmkhpprime_df = pd.DataFrame([col1, col2, col3, col4, col5, col6, col7])\n",
    "vmkhpprime_df = vmkhpprime_df.T\n",
    "vmkhpprime_df.columns=['TimeStamp','CPU', 'ProcessID', 'Warning', 'Component','opID', 'Message']"
   ]
  },
  {
   "cell_type": "code",
   "execution_count": 26,
   "id": "ab2dde3f",
   "metadata": {},
   "outputs": [
    {
     "data": {
      "text/html": [
       "<div>\n",
       "<style scoped>\n",
       "    .dataframe tbody tr th:only-of-type {\n",
       "        vertical-align: middle;\n",
       "    }\n",
       "\n",
       "    .dataframe tbody tr th {\n",
       "        vertical-align: top;\n",
       "    }\n",
       "\n",
       "    .dataframe thead th {\n",
       "        text-align: right;\n",
       "    }\n",
       "</style>\n",
       "<table border=\"1\" class=\"dataframe\">\n",
       "  <thead>\n",
       "    <tr style=\"text-align: right;\">\n",
       "      <th></th>\n",
       "      <th>TimeStamp</th>\n",
       "      <th>CPU</th>\n",
       "      <th>ProcessID</th>\n",
       "      <th>Warning</th>\n",
       "      <th>Component</th>\n",
       "      <th>opID</th>\n",
       "      <th>Message</th>\n",
       "    </tr>\n",
       "  </thead>\n",
       "  <tbody>\n",
       "    <tr>\n",
       "      <th>0</th>\n",
       "      <td>2022-03-25T19:21:05.755Z</td>\n",
       "      <td>cpu1</td>\n",
       "      <td>524637</td>\n",
       "      <td>0</td>\n",
       "      <td>NMP</td>\n",
       "      <td>3782</td>\n",
       "      <td>last error status from device mpx.vmhba32:C0:T...</td>\n",
       "    </tr>\n",
       "    <tr>\n",
       "      <th>1</th>\n",
       "      <td>2022-03-25T19:23:32.010Z</td>\n",
       "      <td>cpu2</td>\n",
       "      <td>527283</td>\n",
       "      <td>0</td>\n",
       "      <td>FS3Misc</td>\n",
       "      <td>1755</td>\n",
       "      <td>Long VMFS rsv time on 'Local_HP-Prime' (held f...</td>\n",
       "    </tr>\n",
       "    <tr>\n",
       "      <th>2</th>\n",
       "      <td>2022-03-25T19:24:31.159Z</td>\n",
       "      <td>cpu3</td>\n",
       "      <td>528356</td>\n",
       "      <td>0</td>\n",
       "      <td>FS3Misc</td>\n",
       "      <td>1755</td>\n",
       "      <td>Long VMFS rsv time on 'Local_HP-Prime' (held f...</td>\n",
       "    </tr>\n",
       "    <tr>\n",
       "      <th>3</th>\n",
       "      <td>2022-03-25T19:25:05.760Z</td>\n",
       "      <td>cpu0</td>\n",
       "      <td>524418</td>\n",
       "      <td>0</td>\n",
       "      <td>StorageDevice</td>\n",
       "      <td>7059</td>\n",
       "      <td>End path evaluation for device naa.6e843b6f1b8...</td>\n",
       "    </tr>\n",
       "    <tr>\n",
       "      <th>4</th>\n",
       "      <td>2022-03-25T19:25:05.762Z</td>\n",
       "      <td>cpu0</td>\n",
       "      <td>524418</td>\n",
       "      <td>0</td>\n",
       "      <td>StorageDevice</td>\n",
       "      <td>7059</td>\n",
       "      <td>End path evaluation for device naa.6589cfc0000...</td>\n",
       "    </tr>\n",
       "    <tr>\n",
       "      <th>...</th>\n",
       "      <td>...</td>\n",
       "      <td>...</td>\n",
       "      <td>...</td>\n",
       "      <td>...</td>\n",
       "      <td>...</td>\n",
       "      <td>...</td>\n",
       "      <td>...</td>\n",
       "    </tr>\n",
       "    <tr>\n",
       "      <th>6950</th>\n",
       "      <td>2022-03-28T23:51:53.804Z</td>\n",
       "      <td>cpu0</td>\n",
       "      <td>604909</td>\n",
       "      <td>1</td>\n",
       "      <td>VisorFS</td>\n",
       "      <td>1094</td>\n",
       "      <td>Attempt to setattr non sticky dir/file from ta...</td>\n",
       "    </tr>\n",
       "    <tr>\n",
       "      <th>6951</th>\n",
       "      <td>2022-03-28T23:51:54.037Z</td>\n",
       "      <td>cpu0</td>\n",
       "      <td>604917</td>\n",
       "      <td>1</td>\n",
       "      <td>VisorFS</td>\n",
       "      <td>1094</td>\n",
       "      <td>Attempt to setattr non sticky dir/file from ta...</td>\n",
       "    </tr>\n",
       "    <tr>\n",
       "      <th>6952</th>\n",
       "      <td>2022-03-28T23:51:54.525Z</td>\n",
       "      <td>cpu1</td>\n",
       "      <td>524311</td>\n",
       "      <td>0</td>\n",
       "      <td>ScsiDeviceIO</td>\n",
       "      <td>4161</td>\n",
       "      <td>Cmd(0x4558c1184dc8) 0x85, CmdSN 0x728 from wor...</td>\n",
       "    </tr>\n",
       "    <tr>\n",
       "      <th>6953</th>\n",
       "      <td>2022-03-28T23:51:54.525Z</td>\n",
       "      <td>cpu1</td>\n",
       "      <td>524311</td>\n",
       "      <td>0</td>\n",
       "      <td>ScsiDeviceIO</td>\n",
       "      <td>4161</td>\n",
       "      <td>Cmd(0x4558c1184dc8) 0x85, CmdSN 0x729 from wor...</td>\n",
       "    </tr>\n",
       "    <tr>\n",
       "      <th>6954</th>\n",
       "      <td>2022-03-28T23:51:55.175Z</td>\n",
       "      <td>cpu3</td>\n",
       "      <td>604955</td>\n",
       "      <td>1</td>\n",
       "      <td>VisorFS</td>\n",
       "      <td>1094</td>\n",
       "      <td>Attempt to setattr non sticky dir/file from ta...</td>\n",
       "    </tr>\n",
       "  </tbody>\n",
       "</table>\n",
       "<p>6955 rows × 7 columns</p>\n",
       "</div>"
      ],
      "text/plain": [
       "                     TimeStamp   CPU ProcessID Warning      Component  opID  \\\n",
       "0     2022-03-25T19:21:05.755Z  cpu1    524637       0            NMP  3782   \n",
       "1     2022-03-25T19:23:32.010Z  cpu2    527283       0        FS3Misc  1755   \n",
       "2     2022-03-25T19:24:31.159Z  cpu3    528356       0        FS3Misc  1755   \n",
       "3     2022-03-25T19:25:05.760Z  cpu0    524418       0  StorageDevice  7059   \n",
       "4     2022-03-25T19:25:05.762Z  cpu0    524418       0  StorageDevice  7059   \n",
       "...                        ...   ...       ...     ...            ...   ...   \n",
       "6950  2022-03-28T23:51:53.804Z  cpu0    604909       1        VisorFS  1094   \n",
       "6951  2022-03-28T23:51:54.037Z  cpu0    604917       1        VisorFS  1094   \n",
       "6952  2022-03-28T23:51:54.525Z  cpu1    524311       0   ScsiDeviceIO  4161   \n",
       "6953  2022-03-28T23:51:54.525Z  cpu1    524311       0   ScsiDeviceIO  4161   \n",
       "6954  2022-03-28T23:51:55.175Z  cpu3    604955       1        VisorFS  1094   \n",
       "\n",
       "                                                Message  \n",
       "0     last error status from device mpx.vmhba32:C0:T...  \n",
       "1     Long VMFS rsv time on 'Local_HP-Prime' (held f...  \n",
       "2     Long VMFS rsv time on 'Local_HP-Prime' (held f...  \n",
       "3     End path evaluation for device naa.6e843b6f1b8...  \n",
       "4     End path evaluation for device naa.6589cfc0000...  \n",
       "...                                                 ...  \n",
       "6950  Attempt to setattr non sticky dir/file from ta...  \n",
       "6951  Attempt to setattr non sticky dir/file from ta...  \n",
       "6952  Cmd(0x4558c1184dc8) 0x85, CmdSN 0x728 from wor...  \n",
       "6953  Cmd(0x4558c1184dc8) 0x85, CmdSN 0x729 from wor...  \n",
       "6954  Attempt to setattr non sticky dir/file from ta...  \n",
       "\n",
       "[6955 rows x 7 columns]"
      ]
     },
     "execution_count": 26,
     "metadata": {},
     "output_type": "execute_result"
    }
   ],
   "source": [
    "vmkhpprime_df"
   ]
  },
  {
   "cell_type": "code",
   "execution_count": 27,
   "id": "6c96dd5e",
   "metadata": {},
   "outputs": [
    {
     "data": {
      "text/plain": [
       "info       44662\n",
       "warning     1929\n",
       "error        513\n",
       "verbose      344\n",
       "Name: Tag, dtype: int64"
      ]
     },
     "execution_count": 27,
     "metadata": {},
     "output_type": "execute_result"
    }
   ],
   "source": [
    "hostdhp02_df.Tag.value_counts()"
   ]
  },
  {
   "cell_type": "code",
   "execution_count": 28,
   "id": "d52dbbdc",
   "metadata": {
    "scrolled": false
   },
   "outputs": [
    {
     "data": {
      "text/html": [
       "<div>\n",
       "<style scoped>\n",
       "    .dataframe tbody tr th:only-of-type {\n",
       "        vertical-align: middle;\n",
       "    }\n",
       "\n",
       "    .dataframe tbody tr th {\n",
       "        vertical-align: top;\n",
       "    }\n",
       "\n",
       "    .dataframe thead th {\n",
       "        text-align: right;\n",
       "    }\n",
       "</style>\n",
       "<table border=\"1\" class=\"dataframe\">\n",
       "  <thead>\n",
       "    <tr style=\"text-align: right;\">\n",
       "      <th></th>\n",
       "      <th>Message</th>\n",
       "    </tr>\n",
       "  </thead>\n",
       "  <tbody>\n",
       "    <tr>\n",
       "      <th>42</th>\n",
       "      <td>IpmiIfcOpenIpmiOpen: open(/dev/ipmi0, RDWR) fa...</td>\n",
       "    </tr>\n",
       "    <tr>\n",
       "      <th>177</th>\n",
       "      <td>IpmiIfcOpenIpmiOpen: open(/dev/ipmi0, RDWR) fa...</td>\n",
       "    </tr>\n",
       "    <tr>\n",
       "      <th>266</th>\n",
       "      <td>IpmiIfcOpenIpmiOpen: open(/dev/ipmi0, RDWR) fa...</td>\n",
       "    </tr>\n",
       "    <tr>\n",
       "      <th>358</th>\n",
       "      <td>IpmiIfcOpenIpmiOpen: open(/dev/ipmi0, RDWR) fa...</td>\n",
       "    </tr>\n",
       "    <tr>\n",
       "      <th>454</th>\n",
       "      <td>IpmiIfcOpenIpmiOpen: open(/dev/ipmi0, RDWR) fa...</td>\n",
       "    </tr>\n",
       "    <tr>\n",
       "      <th>...</th>\n",
       "      <td>...</td>\n",
       "    </tr>\n",
       "    <tr>\n",
       "      <th>46916</th>\n",
       "      <td>IpmiIfcOpenIpmiOpen: open(/dev/ipmi0, RDWR) fa...</td>\n",
       "    </tr>\n",
       "    <tr>\n",
       "      <th>47026</th>\n",
       "      <td>Unexpected fault reading property: 000000ab70b...</td>\n",
       "    </tr>\n",
       "    <tr>\n",
       "      <th>47031</th>\n",
       "      <td>Unexpected fault reading property: 000000ab70c...</td>\n",
       "    </tr>\n",
       "    <tr>\n",
       "      <th>47032</th>\n",
       "      <td>Unexpected fault reading property: 000000ab70c...</td>\n",
       "    </tr>\n",
       "    <tr>\n",
       "      <th>47223</th>\n",
       "      <td>IpmiIfcOpenIpmiOpen: open(/dev/ipmi0, RDWR) fa...</td>\n",
       "    </tr>\n",
       "  </tbody>\n",
       "</table>\n",
       "<p>513 rows × 1 columns</p>\n",
       "</div>"
      ],
      "text/plain": [
       "                                                 Message\n",
       "42     IpmiIfcOpenIpmiOpen: open(/dev/ipmi0, RDWR) fa...\n",
       "177    IpmiIfcOpenIpmiOpen: open(/dev/ipmi0, RDWR) fa...\n",
       "266    IpmiIfcOpenIpmiOpen: open(/dev/ipmi0, RDWR) fa...\n",
       "358    IpmiIfcOpenIpmiOpen: open(/dev/ipmi0, RDWR) fa...\n",
       "454    IpmiIfcOpenIpmiOpen: open(/dev/ipmi0, RDWR) fa...\n",
       "...                                                  ...\n",
       "46916  IpmiIfcOpenIpmiOpen: open(/dev/ipmi0, RDWR) fa...\n",
       "47026  Unexpected fault reading property: 000000ab70b...\n",
       "47031  Unexpected fault reading property: 000000ab70c...\n",
       "47032  Unexpected fault reading property: 000000ab70c...\n",
       "47223  IpmiIfcOpenIpmiOpen: open(/dev/ipmi0, RDWR) fa...\n",
       "\n",
       "[513 rows x 1 columns]"
      ]
     },
     "execution_count": 28,
     "metadata": {},
     "output_type": "execute_result"
    }
   ],
   "source": [
    "hostdhp02_df.loc[hostdhp02_df['Tag'] == 'error', ['Message']]"
   ]
  },
  {
   "cell_type": "code",
   "execution_count": 29,
   "id": "feae008d",
   "metadata": {},
   "outputs": [
    {
     "data": {
      "text/plain": [
       "array(['IpmiIfcOpenIpmiOpen: open(/dev/ipmi0, RDWR) failed 2 m',\n",
       "       'AsyncAuthenticate: Token invalid',\n",
       "       'VigorCallback received fault: Disconnected from virtual machine.',\n",
       "       'Unexpected fault reading property: 000000ab70bc1dd0, IsSourceAvailable: N5Vmomi5Fault12NotSupported9ExceptionE(Fault cause: vmodl.fault.NotSupported',\n",
       "       'Unexpected fault reading property: 000000ab70c1da90, GetNetworkResourcePool: N5Vmomi5Fault12NotSupported9ExceptionE(Fault cause: vmodl.fault.NotSupported',\n",
       "       'Unexpected fault reading property: 000000ab70c1da90, GetRuntime: N5Vmomi5Fault12NotSupported9ExceptionE(Fault cause: vmodl.fault.NotSupported'],\n",
       "      dtype=object)"
      ]
     },
     "execution_count": 29,
     "metadata": {},
     "output_type": "execute_result"
    }
   ],
   "source": [
    "test = hostdhp02_df.loc[hostdhp02_df['Tag'] == 'error', ['Message']]\n",
    "test.Message.unique()"
   ]
  },
  {
   "cell_type": "code",
   "execution_count": 30,
   "id": "6311270b",
   "metadata": {
    "scrolled": true
   },
   "outputs": [
    {
     "data": {
      "text/plain": [
       "IpmiIfcOpenIpmiOpen: open(/dev/ipmi0, RDWR) failed 2 m                                                                                                       455\n",
       "AsyncAuthenticate: Token invalid                                                                                                                              52\n",
       "VigorCallback received fault: Disconnected from virtual machine.                                                                                               3\n",
       "Unexpected fault reading property: 000000ab70bc1dd0, IsSourceAvailable: N5Vmomi5Fault12NotSupported9ExceptionE(Fault cause: vmodl.fault.NotSupported           1\n",
       "Unexpected fault reading property: 000000ab70c1da90, GetNetworkResourcePool: N5Vmomi5Fault12NotSupported9ExceptionE(Fault cause: vmodl.fault.NotSupported      1\n",
       "Unexpected fault reading property: 000000ab70c1da90, GetRuntime: N5Vmomi5Fault12NotSupported9ExceptionE(Fault cause: vmodl.fault.NotSupported                  1\n",
       "Name: Message, dtype: int64"
      ]
     },
     "execution_count": 30,
     "metadata": {},
     "output_type": "execute_result"
    }
   ],
   "source": [
    "test.Message.value_counts()"
   ]
  },
  {
   "cell_type": "code",
   "execution_count": 43,
   "id": "b9623c70",
   "metadata": {},
   "outputs": [
    {
     "data": {
      "text/plain": [
       "array(['IpmiIfcOpenIpmiOpen: open(/dev/ipmi0, RDWR) failed 2 m',\n",
       "       'AsyncAuthenticate: Token invalid',\n",
       "       'VigorCallback received fault: Disconnected from virtual machine.',\n",
       "       'Unexpected fault reading property: 000000678b561c20, IsSourceAvailable: N5Vmomi5Fault12NotSupported9ExceptionE(Fault cause: vmodl.fault.NotSupported',\n",
       "       'Unexpected fault reading property: 000000678b5bd8e0, GetNetworkResourcePool: N5Vmomi5Fault12NotSupported9ExceptionE(Fault cause: vmodl.fault.NotSupported',\n",
       "       'Unexpected fault reading property: 000000678b5bd8e0, GetRuntime: N5Vmomi5Fault12NotSupported9ExceptionE(Fault cause: vmodl.fault.NotSupported'],\n",
       "      dtype=object)"
      ]
     },
     "execution_count": 43,
     "metadata": {},
     "output_type": "execute_result"
    }
   ],
   "source": [
    "test2 = hostdhpprime_df.loc[hostdhpprime_df['Tag'] == 'error', ['Message']]\n",
    "test2.Message.unique()"
   ]
  },
  {
   "cell_type": "code",
   "execution_count": 44,
   "id": "3baa54dc",
   "metadata": {},
   "outputs": [
    {
     "data": {
      "text/plain": [
       "IpmiIfcOpenIpmiOpen: open(/dev/ipmi0, RDWR) failed 2 m                                                                                                       387\n",
       "AsyncAuthenticate: Token invalid                                                                                                                              45\n",
       "VigorCallback received fault: Disconnected from virtual machine.                                                                                               4\n",
       "Unexpected fault reading property: 000000678b561c20, IsSourceAvailable: N5Vmomi5Fault12NotSupported9ExceptionE(Fault cause: vmodl.fault.NotSupported           1\n",
       "Unexpected fault reading property: 000000678b5bd8e0, GetNetworkResourcePool: N5Vmomi5Fault12NotSupported9ExceptionE(Fault cause: vmodl.fault.NotSupported      1\n",
       "Unexpected fault reading property: 000000678b5bd8e0, GetRuntime: N5Vmomi5Fault12NotSupported9ExceptionE(Fault cause: vmodl.fault.NotSupported                  1\n",
       "Name: Message, dtype: int64"
      ]
     },
     "execution_count": 44,
     "metadata": {},
     "output_type": "execute_result"
    }
   ],
   "source": [
    "test2.Message.value_counts()"
   ]
  },
  {
   "cell_type": "code",
   "execution_count": 32,
   "id": "c2ba74fc",
   "metadata": {},
   "outputs": [
    {
     "data": {
      "text/plain": [
       "array(['IpmiIfcOpenIpmiOpen: open(/dev/ipmi0, RDWR) failed 2 m',\n",
       "       'AsyncAuthenticate: Token invalid',\n",
       "       'VigorCallback received fault: Disconnected from virtual machine.',\n",
       "       'Unexpected fault reading property: 000000ab70bc1dd0, IsSourceAvailable: N5Vmomi5Fault12NotSupported9ExceptionE(Fault cause: vmodl.fault.NotSupported',\n",
       "       'Unexpected fault reading property: 000000ab70c1da90, GetNetworkResourcePool: N5Vmomi5Fault12NotSupported9ExceptionE(Fault cause: vmodl.fault.NotSupported',\n",
       "       'Unexpected fault reading property: 000000ab70c1da90, GetRuntime: N5Vmomi5Fault12NotSupported9ExceptionE(Fault cause: vmodl.fault.NotSupported'],\n",
       "      dtype=object)"
      ]
     },
     "execution_count": 32,
     "metadata": {},
     "output_type": "execute_result"
    }
   ],
   "source": [
    "test.Message.unique()"
   ]
  },
  {
   "cell_type": "code",
   "execution_count": 33,
   "id": "abf18250",
   "metadata": {},
   "outputs": [
    {
     "data": {
      "text/plain": [
       "info       33776\n",
       "warning     1149\n",
       "verbose      617\n",
       "error        439\n",
       "Name: Tag, dtype: int64"
      ]
     },
     "execution_count": 33,
     "metadata": {},
     "output_type": "execute_result"
    }
   ],
   "source": [
    "hostdhpprime_df.Tag.value_counts()"
   ]
  },
  {
   "cell_type": "code",
   "execution_count": 34,
   "id": "ca9385cd",
   "metadata": {},
   "outputs": [
    {
     "data": {
      "text/plain": [
       "[<matplotlib.lines.Line2D at 0x7fc6243e9340>]"
      ]
     },
     "execution_count": 34,
     "metadata": {},
     "output_type": "execute_result"
    },
    {
     "data": {
      "image/png": "[encoded data removed]",
      "text/plain": [
       "<Figure size 432x288 with 1 Axes>"
      ]
     },
     "metadata": {
      "needs_background": "light"
     },
     "output_type": "display_data"
    }
   ],
   "source": [
    "plt.plot(hostdhp02_df.Tag.value_counts())\n",
    "plt.plot(hostdhpprime_df.Tag.value_counts())"
   ]
  },
  {
   "cell_type": "code",
   "execution_count": 36,
   "id": "a3889a2d",
   "metadata": {},
   "outputs": [
    {
     "data": {
      "text/plain": [
       "<matplotlib.legend.Legend at 0x7fc624233970>"
      ]
     },
     "execution_count": 36,
     "metadata": {},
     "output_type": "execute_result"
    },
    {
     "data": {
      "image/png": "[encoded data removed]",
      "text/plain": [
       "<Figure size 432x288 with 1 Axes>"
      ]
     },
     "metadata": {
      "needs_background": "light"
     },
     "output_type": "display_data"
    }
   ],
   "source": [
    "X = hostdhp02_df.Tag.unique()\n",
    "X_axis = np.arange(len(X))\n",
    "fig = plt.figure()\n",
    "ax = fig.add_axes([0,0,1,1])\n",
    "ax.bar(X_axis - 0.2, hostdhp02_df.Tag.value_counts(), 0.4, label = 'HP02')\n",
    "ax.bar(X_axis + 0.2, hostdhpprime_df.Tag.value_counts(), 0.4, label = 'HP Prime')\n",
    "plt.xticks(X_axis, X)\n",
    "plt.xlabel(\"Tags\")\n",
    "plt.ylabel(\"Number of Tag Occurances\")\n",
    "plt.title(\"Number of Tags in each Host Log\")\n",
    "plt.legend()"
   ]
  },
  {
   "cell_type": "code",
   "execution_count": 37,
   "id": "40d865cf",
   "metadata": {},
   "outputs": [
    {
     "data": {
      "text/plain": [
       "info       44662\n",
       "warning     1929\n",
       "error        513\n",
       "verbose      344\n",
       "Name: Tag, dtype: int64"
      ]
     },
     "execution_count": 37,
     "metadata": {},
     "output_type": "execute_result"
    }
   ],
   "source": [
    "hostdhp02_df.Tag.value_counts()"
   ]
  },
  {
   "cell_type": "code",
   "execution_count": 38,
   "id": "4f1c018d",
   "metadata": {},
   "outputs": [
    {
     "data": {
      "text/plain": [
       "info       33776\n",
       "warning     1149\n",
       "verbose      617\n",
       "error        439\n",
       "Name: Tag, dtype: int64"
      ]
     },
     "execution_count": 38,
     "metadata": {},
     "output_type": "execute_result"
    }
   ],
   "source": [
    "hostdhpprime_df.Tag.value_counts()"
   ]
  },
  {
   "cell_type": "code",
   "execution_count": 40,
   "id": "9c591e37",
   "metadata": {},
   "outputs": [
    {
     "data": {
      "text/plain": [
       "<matplotlib.legend.Legend at 0x7fc624183df0>"
      ]
     },
     "execution_count": 40,
     "metadata": {},
     "output_type": "execute_result"
    },
    {
     "data": {
      "image/png": "[encoded data removed]",
      "text/plain": [
       "<Figure size 432x288 with 1 Axes>"
      ]
     },
     "metadata": {
      "needs_background": "light"
     },
     "output_type": "display_data"
    }
   ],
   "source": [
    "X = [\"No\", \"Yes\"]\n",
    "X_axis = np.arange(len(X))\n",
    "fig = plt.figure()\n",
    "ax = fig.add_axes([0,0,1,1])\n",
    "ax.bar(X_axis - 0.2, vmkhp02_df.Warning.value_counts(), 0.4, label = 'HP02')\n",
    "ax.bar(X_axis + 0.2, vmkhpprime_df.Warning.value_counts(), 0.4, label = 'HP Prime')\n",
    "plt.xticks(X_axis, X)\n",
    "plt.xlabel(\"Warnings\")\n",
    "plt.ylabel(\"Number of Occurances\")\n",
    "plt.title(\"Number of Warning Messages in each host VM Log\")\n",
    "plt.legend()"
   ]
  },
  {
   "cell_type": "code",
   "execution_count": 41,
   "id": "59f5149e",
   "metadata": {},
   "outputs": [
    {
     "data": {
      "text/plain": [
       "0    2910\n",
       "1      94\n",
       "Name: Warning, dtype: int64"
      ]
     },
     "execution_count": 41,
     "metadata": {},
     "output_type": "execute_result"
    }
   ],
   "source": [
    "vmkhp02_df.Warning.value_counts()"
   ]
  },
  {
   "cell_type": "code",
   "execution_count": 42,
   "id": "180443be",
   "metadata": {},
   "outputs": [
    {
     "data": {
      "text/plain": [
       "0    6636\n",
       "1     319\n",
       "Name: Warning, dtype: int64"
      ]
     },
     "execution_count": 42,
     "metadata": {},
     "output_type": "execute_result"
    }
   ],
   "source": [
    "vmkhpprime_df.Warning.value_counts()"
   ]
  },
  {
   "cell_type": "code",
   "execution_count": 48,
   "id": "362e4a74",
   "metadata": {},
   "outputs": [
    {
     "data": {
      "text/plain": [
       "array(['Device naa.6e843b6f1b89fdbd00b3d4cfcd8e24d2 performance has deteriorated. I/O latency increased from average value of 1382 microseconds to 33759 microseconds.',\n",
       "       'Device naa.6e843b6f1b89fdbd00b3d4cfcd8e24d2 performance has deteriorated. I/O latency increased from average value of 1382 microseconds to 72515 microseconds.',\n",
       "       'Device naa.6e843b6f1b89fdbd00b3d4cfcd8e24d2 performance has deteriorated. I/O latency increased from average value of 1551 microseconds to 147924 microseconds.',\n",
       "       'system clock apparently no longer synchronized to upstream time servers',\n",
       "       'system clock synchronized to upstream time servers',\n",
       "       'Device naa.6589cfc000000119d7cab53ddd5d7b8f performance has deteriorated. I/O latency increased from average value of 2520 microseconds to 69676 microseconds.',\n",
       "       'Cannot add delays on non-debug builds',\n",
       "       'Attempt to setattr non sticky dir/file from tar mount',\n",
       "       'vsi_traverse: Unimplemented operation on 0x4558c57f7948/SOCKET_VMCI',\n",
       "       'MemTierSummary is not initialized',\n",
       "       '[nsx@6876 comp=\"nsx-esx\" subcomp=\"vswitch\"]No vlan data for non dvs ports or ports without port group 0x4000006',\n",
       "       '[nsx@6876 comp=\"nsx-esx\" subcomp=\"vswitch\"]No vlan data for non dvs ports or ports without port group 0x4000010',\n",
       "       '[nsx@6876 comp=\"nsx-esx\" subcomp=\"vswitch\"]No vlan data for non dvs ports or ports without port group 0x6000007',\n",
       "       '[nsx@6876 comp=\"nsx-esx\" subcomp=\"vswitch\"]No vlan data for non dvs ports or ports without port group 0x86000008',\n",
       "       '[nsx@6876 comp=\"nsx-esx\" subcomp=\"vswitch\"]No vlan data for non dvs ports or ports without port group 0x6000009',\n",
       "       '[nsx@6876 comp=\"nsx-esx\" subcomp=\"vswitch\"]No vlan data for non dvs ports or ports without port group 0x800000a',\n",
       "       '[nsx@6876 comp=\"nsx-esx\" subcomp=\"vswitch\"]No vlan data for non dvs ports or ports without port group 0x8800000b',\n",
       "       '[nsx@6876 comp=\"nsx-esx\" subcomp=\"vswitch\"]No vlan data for non dvs ports or ports without port group 0x800000c',\n",
       "       '[nsx@6876 comp=\"nsx-esx\" subcomp=\"vswitch\"]No vlan data for non dvs ports or ports without port group 0x8800000d',\n",
       "       '[nsx@6876 comp=\"nsx-esx\" subcomp=\"vswitch\"]No vlan data for non dvs ports or ports without port group 0x800000e',\n",
       "       'vmkvsitools: Unimplemented operation on 0x4558c57f7948/SOCKET_VMCI',\n",
       "       'Device naa.6589cfc000000119d7cab53ddd5d7b8f performance has deteriorated. I/O latency increased from average value of 2803 microseconds to 90081 microseconds.'],\n",
       "      dtype=object)"
      ]
     },
     "execution_count": 48,
     "metadata": {},
     "output_type": "execute_result"
    }
   ],
   "source": [
    "vmerrorhp02 = vmkhp02_df.loc[vmkhp02_df['Warning'] == 1, ['Message']]\n",
    "vmerrorhp02.Message.unique()"
   ]
  },
  {
   "cell_type": "code",
   "execution_count": 49,
   "id": "7ecde3e4",
   "metadata": {},
   "outputs": [
    {
     "data": {
      "text/plain": [
       "Cannot add delays on non-debug builds                                                                                                                              36\n",
       "Attempt to setattr non sticky dir/file from tar mount                                                                                                              24\n",
       "MemTierSummary is not initialized                                                                                                                                   4\n",
       "[nsx@6876 comp=\"nsx-esx\" subcomp=\"vswitch\"]No vlan data for non dvs ports or ports without port group 0x4000010                                                     2\n",
       "[nsx@6876 comp=\"nsx-esx\" subcomp=\"vswitch\"]No vlan data for non dvs ports or ports without port group 0x800000a                                                     2\n",
       "[nsx@6876 comp=\"nsx-esx\" subcomp=\"vswitch\"]No vlan data for non dvs ports or ports without port group 0x800000e                                                     2\n",
       "[nsx@6876 comp=\"nsx-esx\" subcomp=\"vswitch\"]No vlan data for non dvs ports or ports without port group 0x8800000d                                                    2\n",
       "[nsx@6876 comp=\"nsx-esx\" subcomp=\"vswitch\"]No vlan data for non dvs ports or ports without port group 0x800000c                                                     2\n",
       "vsi_traverse: Unimplemented operation on 0x4558c57f7948/SOCKET_VMCI                                                                                                 2\n",
       "[nsx@6876 comp=\"nsx-esx\" subcomp=\"vswitch\"]No vlan data for non dvs ports or ports without port group 0x4000006                                                     2\n",
       "[nsx@6876 comp=\"nsx-esx\" subcomp=\"vswitch\"]No vlan data for non dvs ports or ports without port group 0x8800000b                                                    2\n",
       "[nsx@6876 comp=\"nsx-esx\" subcomp=\"vswitch\"]No vlan data for non dvs ports or ports without port group 0x6000007                                                     2\n",
       "[nsx@6876 comp=\"nsx-esx\" subcomp=\"vswitch\"]No vlan data for non dvs ports or ports without port group 0x86000008                                                    2\n",
       "[nsx@6876 comp=\"nsx-esx\" subcomp=\"vswitch\"]No vlan data for non dvs ports or ports without port group 0x6000009                                                     2\n",
       "vmkvsitools: Unimplemented operation on 0x4558c57f7948/SOCKET_VMCI                                                                                                  1\n",
       "Device naa.6e843b6f1b89fdbd00b3d4cfcd8e24d2 performance has deteriorated. I/O latency increased from average value of 1382 microseconds to 33759 microseconds.      1\n",
       "Device naa.6e843b6f1b89fdbd00b3d4cfcd8e24d2 performance has deteriorated. I/O latency increased from average value of 1382 microseconds to 72515 microseconds.      1\n",
       "Device naa.6589cfc000000119d7cab53ddd5d7b8f performance has deteriorated. I/O latency increased from average value of 2520 microseconds to 69676 microseconds.      1\n",
       "system clock synchronized to upstream time servers                                                                                                                  1\n",
       "system clock apparently no longer synchronized to upstream time servers                                                                                             1\n",
       "Device naa.6e843b6f1b89fdbd00b3d4cfcd8e24d2 performance has deteriorated. I/O latency increased from average value of 1551 microseconds to 147924 microseconds.     1\n",
       "Device naa.6589cfc000000119d7cab53ddd5d7b8f performance has deteriorated. I/O latency increased from average value of 2803 microseconds to 90081 microseconds.      1\n",
       "Name: Message, dtype: int64"
      ]
     },
     "execution_count": 49,
     "metadata": {},
     "output_type": "execute_result"
    }
   ],
   "source": [
    "vmerrorhp02.Message.value_counts()"
   ]
  },
  {
   "cell_type": "code",
   "execution_count": 50,
   "id": "e0419c5d",
   "metadata": {},
   "outputs": [
    {
     "data": {
      "text/plain": [
       "array(['NFS volume DS_Saturn_NFS average I/O latency 78416(us) has exceeded threshold 10000(us) for last 10 minutes',\n",
       "       'NFS volume DS_Saturn_NFS average I/O latency 79534(us) has exceeded threshold 10000(us) for last 10 minutes',\n",
       "       'NFS volume DS_Saturn_NFS average I/O latency 70259(us) has exceeded threshold 10000(us) for last 10 minutes',\n",
       "       'NFS volume DS_Saturn_NFS average I/O latency 70937(us) has exceeded threshold 10000(us) for last 10 minutes',\n",
       "       'NFS volume DS_Saturn_NFS average I/O latency 73764(us) has exceeded threshold 10000(us) for last 10 minutes',\n",
       "       'NFS volume DS_Saturn_NFS average I/O latency 68418(us) has exceeded threshold 10000(us) for last 10 minutes',\n",
       "       'NFS volume DS_Saturn_NFS average I/O latency 72580(us) has exceeded threshold 10000(us) for last 10 minutes',\n",
       "       'NFS volume DS_Saturn_NFS average I/O latency 74731(us) has exceeded threshold 10000(us) for last 10 minutes',\n",
       "       'NFS volume DS_Saturn_NFS average I/O latency 72702(us) has exceeded threshold 10000(us) for last 10 minutes',\n",
       "       'NFS volume DS_Saturn_NFS average I/O latency 68289(us) has exceeded threshold 10000(us) for last 10 minutes',\n",
       "       'NFS volume DS_Saturn_NFS average I/O latency 66889(us) has exceeded threshold 10000(us) for last 10 minutes',\n",
       "       'NFS volume DS_Saturn_NFS average I/O latency 70875(us) has exceeded threshold 10000(us) for last 10 minutes',\n",
       "       'NFS volume DS_Saturn_NFS average I/O latency 69866(us) has exceeded threshold 10000(us) for last 10 minutes',\n",
       "       'NFS volume DS_Saturn_NFS average I/O latency 72767(us) has exceeded threshold 10000(us) for last 10 minutes',\n",
       "       'NFS volume DS_Saturn_NFS average I/O latency 71025(us) has exceeded threshold 10000(us) for last 10 minutes',\n",
       "       'NFS volume DS_Saturn_NFS average I/O latency 72553(us) has exceeded threshold 10000(us) for last 10 minutes',\n",
       "       'NFS volume DS_Saturn_NFS average I/O latency 72007(us) has exceeded threshold 10000(us) for last 10 minutes',\n",
       "       'NFS volume DS_Saturn_NFS average I/O latency 68126(us) has exceeded threshold 10000(us) for last 10 minutes',\n",
       "       'NFS volume DS_Saturn_NFS average I/O latency 71449(us) has exceeded threshold 10000(us) for last 10 minutes',\n",
       "       'NFS volume DS_Saturn_NFS average I/O latency 78993(us) has exceeded threshold 10000(us) for last 10 minutes',\n",
       "       'NFS volume DS_Saturn_NFS average I/O latency 68040(us) has exceeded threshold 10000(us) for last 10 minutes',\n",
       "       'NFS volume DS_Saturn_NFS average I/O latency 67939(us) has exceeded threshold 10000(us) for last 10 minutes',\n",
       "       'NFS volume DS_Saturn_NFS average I/O latency 72286(us) has exceeded threshold 10000(us) for last 10 minutes',\n",
       "       'NFS volume DS_Saturn_NFS average I/O latency 77641(us) has exceeded threshold 10000(us) for last 10 minutes',\n",
       "       'NFS volume DS_Saturn_NFS average I/O latency 70171(us) has exceeded threshold 10000(us) for last 10 minutes',\n",
       "       'NFS volume DS_Saturn_NFS average I/O latency 74385(us) has exceeded threshold 10000(us) for last 10 minutes',\n",
       "       'NFS volume DS_Saturn_NFS average I/O latency 94810(us) has exceeded threshold 10000(us) for last 10 minutes',\n",
       "       'NFS volume DS_Saturn_NFS average I/O latency 87238(us) has exceeded threshold 10000(us) for last 10 minutes',\n",
       "       'NFS volume DS_Saturn_NFS performance has deteriorated. I/O latency increased from average value of 0(us) to 33693(us). Exceeded threshold 10000(us)',\n",
       "       'NFS volume DS_Saturn_NFS average I/O latency 58910(us) has exceeded threshold 10000(us) for last 10 minutes',\n",
       "       'NFS volume DS_Saturn_NFS performance has deteriorated. I/O latency increased from average value of 33693(us) to 69836(us). Exceeded threshold 10000(us)',\n",
       "       'NFS volume DS_Saturn_NFS average I/O latency 58748(us) has exceeded threshold 10000(us) for last 10 minutes',\n",
       "       'NFS volume DS_Saturn_NFS average I/O latency 55912(us) has exceeded threshold 10000(us) for last 10 minutes',\n",
       "       'NFS volume DS_Saturn_NFS average I/O latency 60927(us) has exceeded threshold 10000(us) for last 10 minutes',\n",
       "       'NFS volume DS_Saturn_NFS average I/O latency 61153(us) has exceeded threshold 10000(us) for last 10 minutes',\n",
       "       'NFS volume DS_Saturn_NFS average I/O latency 64205(us) has exceeded threshold 10000(us) for last 10 minutes',\n",
       "       'NFS volume DS_Saturn_NFS average I/O latency 63481(us) has exceeded threshold 10000(us) for last 10 minutes',\n",
       "       'NFS volume DS_Saturn_NFS performance has deteriorated. I/O latency increased from average value of 69836(us) to 142630(us). Exceeded threshold 10000(us)',\n",
       "       'NFS volume DS_Saturn_NFS average I/O latency 63117(us) has exceeded threshold 10000(us) for last 10 minutes',\n",
       "       'NFS volume DS_Saturn_NFS average I/O latency 61563(us) has exceeded threshold 10000(us) for last 10 minutes',\n",
       "       'NFS volume DS_Saturn_NFS average I/O latency 64883(us) has exceeded threshold 10000(us) for last 10 minutes',\n",
       "       'NFS volume DS_Saturn_NFS average I/O latency 65481(us) has exceeded threshold 10000(us) for last 10 minutes',\n",
       "       'NFS volume DS_Saturn_NFS average I/O latency 70936(us) has exceeded threshold 10000(us) for last 10 minutes',\n",
       "       'NFS volume DS_Saturn_NFS average I/O latency 71879(us) has exceeded threshold 10000(us) for last 10 minutes',\n",
       "       'NFS volume DS_Saturn_NFS average I/O latency 70355(us) has exceeded threshold 10000(us) for last 10 minutes',\n",
       "       'NFS volume DS_Saturn_NFS average I/O latency 66320(us) has exceeded threshold 10000(us) for last 10 minutes',\n",
       "       'NFS volume DS_Saturn_NFS average I/O latency 74080(us) has exceeded threshold 10000(us) for last 10 minutes',\n",
       "       'NFS volume DS_Saturn_NFS average I/O latency 71398(us) has exceeded threshold 10000(us) for last 10 minutes',\n",
       "       'NFS volume DS_Saturn_NFS average I/O latency 68553(us) has exceeded threshold 10000(us) for last 10 minutes',\n",
       "       'Device naa.6589cfc000000119d7cab53ddd5d7b8f performance has deteriorated. I/O latency increased from average value of 2117 microseconds to 43308 microseconds.',\n",
       "       'NFS volume DS_Saturn_NFS average I/O latency 66977(us) has exceeded threshold 10000(us) for last 10 minutes',\n",
       "       'NFS volume DS_Saturn_NFS average I/O latency 63076(us) has exceeded threshold 10000(us) for last 10 minutes',\n",
       "       'NFS volume DS_Saturn_NFS average I/O latency 70649(us) has exceeded threshold 10000(us) for last 10 minutes',\n",
       "       'Device naa.6e843b6f1b89fdbd00b3d4cfcd8e24d2 performance has deteriorated. I/O latency increased from average value of 665 microseconds to 13596 microseconds.',\n",
       "       'Device naa.6e843b6f1b89fdbd00b3d4cfcd8e24d2 performance has deteriorated. I/O latency increased from average value of 665 microseconds to 30914 microseconds.',\n",
       "       'Device naa.6e843b6f1b89fdbd00b3d4cfcd8e24d2 performance has deteriorated. I/O latency increased from average value of 665 microseconds to 64474 microseconds.',\n",
       "       'Device naa.6e843b6f1b89fdbd00b3d4cfcd8e24d2 performance has deteriorated. I/O latency increased from average value of 805 microseconds to 130515 microseconds.',\n",
       "       'Device naa.6e843b6f1b89fdbd00b3d4cfcd8e24d2 performance has deteriorated. I/O latency increased from average value of 1391 microseconds to 264067 microseconds.',\n",
       "       'Cannot add delays on non-debug builds',\n",
       "       'Attempt to setattr non sticky dir/file from tar mount',\n",
       "       'vsi_traverse: Unimplemented operation on 0x4558c57f5308/SOCKET_VMCI',\n",
       "       'failed to query file handle id 51910875',\n",
       "       'failed to query file handle id 111548636',\n",
       "       'failed to query file handle id 36640989',\n",
       "       'failed to query file handle id 40769758',\n",
       "       'failed to query file handle id 71440607',\n",
       "       'failed to query file handle id 61216992',\n",
       "       'failed to query file handle id 36116705',\n",
       "       'failed to query file handle id 58792162',\n",
       "       'failed to query file handle id 52893923',\n",
       "       'failed to query file handle id 74586340',\n",
       "       'failed to query file handle id 57481445',\n",
       "       'failed to query file handle id 50010342',\n",
       "       'failed to query file handle id 42473703',\n",
       "       'failed to query file handle id 28580072',\n",
       "       'failed to query file handle id 15603945',\n",
       "       'failed to query file handle id 13965546',\n",
       "       'failed to query file handle id 51124459',\n",
       "       'failed to query file handle id 43718892',\n",
       "       'failed to query file handle id 37165293',\n",
       "       'failed to query file handle id 67836142',\n",
       "       'failed to query file handle id 39459055',\n",
       "       'failed to query file handle id 50534640',\n",
       "       'failed to query file handle id 49158385',\n",
       "       'failed to query file handle id 39721202',\n",
       "       'failed to query file handle id 54139123',\n",
       "       'failed to query file handle id 34740468',\n",
       "       'failed to query file handle id 26679541',\n",
       "       'failed to query file handle id 50600182',\n",
       "       'failed to query file handle id 23533815',\n",
       "       'failed to query file handle id 40114424',\n",
       "       'failed to query file handle id 36837625',\n",
       "       'failed to query file handle id 35657978',\n",
       "       'failed to query file handle id 26548475',\n",
       "       'failed to query file handle id 31070460',\n",
       "       'failed to query file handle id 58661117',\n",
       "       'failed to query file handle id 29628670',\n",
       "       'failed to query file handle id 26614015',\n",
       "       'failed to query file handle id 15603968',\n",
       "       'failed to query file handle id 37755137',\n",
       "       'failed to query file handle id 39459074',\n",
       "       'failed to query file handle id 25696515',\n",
       "       'failed to query file handle id 32446724',\n",
       "       'failed to query file handle id 61675781',\n",
       "       'failed to query file handle id 43129094',\n",
       "       'failed to query file handle id 30742791',\n",
       "       'failed to query file handle id 31594760',\n",
       "       'failed to query file handle id 27597065',\n",
       "       'failed to query file handle id 38541578',\n",
       "       'failed to query file handle id 45488395',\n",
       "       'failed to query file handle id 38082828',\n",
       "       'failed to query file handle id 59250957',\n",
       "       'failed to query file handle id 30152974',\n",
       "       'failed to query file handle id 22681871',\n",
       "       'failed to query file handle id 22419728',\n",
       "       'failed to query file handle id 31398161',\n",
       "       'failed to query file handle id 31267090',\n",
       "       'failed to query file handle id 43981075',\n",
       "       'failed to query file handle id 16193812',\n",
       "       'failed to query file handle id 52959509',\n",
       "       'failed to query file handle id 53483798',\n",
       "       'failed to query file handle id 49223959',\n",
       "       'failed to query file handle id 13703448',\n",
       "       'failed to query file handle id 11147545',\n",
       "       'failed to query file handle id 25565466',\n",
       "       'failed to query file handle id 26220827',\n",
       "       'failed to query file handle id 10623260',\n",
       "       'failed to query file handle id 46864669',\n",
       "       'failed to query file handle id 49617182',\n",
       "       'failed to query file handle id 20584735',\n",
       "       'failed to query file handle id 10033440',\n",
       "       'failed to query file handle id 11016481',\n",
       "       'failed to query file handle id 29301026',\n",
       "       'failed to query file handle id 20125987',\n",
       "       'failed to query file handle id 12392740',\n",
       "       'failed to query file handle id 16718117',\n",
       "       'failed to query file handle id 48109862',\n",
       "       'failed to query file handle id 50010407',\n",
       "       'failed to query file handle id 24189224',\n",
       "       'failed to query file handle id 8067369',\n",
       "       'failed to query file handle id 7215402',\n",
       "       'failed to query file handle id 9115947',\n",
       "       'failed to query file handle id 20257068',\n",
       "       'failed to query file handle id 32184621',\n",
       "       'failed to query file handle id 12851502',\n",
       "       'failed to query file handle id 24844591',\n",
       "       'failed to query file handle id 25041200',\n",
       "       'failed to query file handle id 17701169',\n",
       "       'failed to query file handle id 15341874',\n",
       "       'failed to query file handle id 18749747',\n",
       "       'failed to query file handle id 22092084',\n",
       "       'failed to query file handle id 14424373',\n",
       "       'failed to query file handle id 37427510',\n",
       "       'failed to query file handle id 36313399',\n",
       "       'MemTierSummary is not initialized',\n",
       "       '[nsx@6876 comp=\"nsx-esx\" subcomp=\"vswitch\"]No vlan data for non dvs ports or ports without port group 0x4000006',\n",
       "       '[nsx@6876 comp=\"nsx-esx\" subcomp=\"vswitch\"]No vlan data for non dvs ports or ports without port group 0x4000010',\n",
       "       '[nsx@6876 comp=\"nsx-esx\" subcomp=\"vswitch\"]No vlan data for non dvs ports or ports without port group 0x6000007',\n",
       "       '[nsx@6876 comp=\"nsx-esx\" subcomp=\"vswitch\"]No vlan data for non dvs ports or ports without port group 0x86000008',\n",
       "       '[nsx@6876 comp=\"nsx-esx\" subcomp=\"vswitch\"]No vlan data for non dvs ports or ports without port group 0x6000009',\n",
       "       '[nsx@6876 comp=\"nsx-esx\" subcomp=\"vswitch\"]No vlan data for non dvs ports or ports without port group 0x800000a',\n",
       "       '[nsx@6876 comp=\"nsx-esx\" subcomp=\"vswitch\"]No vlan data for non dvs ports or ports without port group 0x8800000b',\n",
       "       '[nsx@6876 comp=\"nsx-esx\" subcomp=\"vswitch\"]No vlan data for non dvs ports or ports without port group 0x8800000c',\n",
       "       '[nsx@6876 comp=\"nsx-esx\" subcomp=\"vswitch\"]No vlan data for non dvs ports or ports without port group 0x800000d',\n",
       "       '[nsx@6876 comp=\"nsx-esx\" subcomp=\"vswitch\"]No vlan data for non dvs ports or ports without port group 0x800000e',\n",
       "       'vmkvsitools: Unimplemented operation on 0x4558c57f5308/SOCKET_VMCI'],\n",
       "      dtype=object)"
      ]
     },
     "execution_count": 50,
     "metadata": {},
     "output_type": "execute_result"
    }
   ],
   "source": [
    "vmerrorhpprime = vmkhpprime_df.loc[vmkhpprime_df['Warning'] == 1, ['Message']]\n",
    "vmerrorhpprime.Message.unique()"
   ]
  },
  {
   "cell_type": "code",
   "execution_count": 51,
   "id": "bcfb6749",
   "metadata": {},
   "outputs": [
    {
     "data": {
      "text/plain": [
       "Cannot add delays on non-debug builds                                                                                                                              88\n",
       "Attempt to setattr non sticky dir/file from tar mount                                                                                                              26\n",
       "MemTierSummary is not initialized                                                                                                                                   8\n",
       "[nsx@6876 comp=\"nsx-esx\" subcomp=\"vswitch\"]No vlan data for non dvs ports or ports without port group 0x86000008                                                    4\n",
       "vsi_traverse: Unimplemented operation on 0x4558c57f5308/SOCKET_VMCI                                                                                                 4\n",
       "                                                                                                                                                                   ..\n",
       "Device naa.6e843b6f1b89fdbd00b3d4cfcd8e24d2 performance has deteriorated. I/O latency increased from average value of 665 microseconds to 64474 microseconds.       1\n",
       "Device naa.6e843b6f1b89fdbd00b3d4cfcd8e24d2 performance has deteriorated. I/O latency increased from average value of 805 microseconds to 130515 microseconds.      1\n",
       "Device naa.6e843b6f1b89fdbd00b3d4cfcd8e24d2 performance has deteriorated. I/O latency increased from average value of 1391 microseconds to 264067 microseconds.     1\n",
       "failed to query file handle id 51910875                                                                                                                             1\n",
       "failed to query file handle id 49158385                                                                                                                             1\n",
       "Name: Message, Length: 166, dtype: int64"
      ]
     },
     "execution_count": 51,
     "metadata": {},
     "output_type": "execute_result"
    }
   ],
   "source": [
    "vmerrorhpprime.Message.value_counts() #https://kb.vmware.com/s/article/2007236"
   ]
  }
 ],
 "metadata": {
  "kernelspec": {
   "display_name": "Python 3 (ipykernel)",
   "language": "python",
   "name": "python3"
  },
  "language_info": {
   "codemirror_mode": {
    "name": "ipython",
    "version": 3
   },
   "file_extension": ".py",
   "mimetype": "text/x-python",
   "name": "python",
   "nbconvert_exporter": "python",
   "pygments_lexer": "ipython3",
   "version": "3.8.10"
  }
 },
 "nbformat": 4,
 "nbformat_minor": 5
}
